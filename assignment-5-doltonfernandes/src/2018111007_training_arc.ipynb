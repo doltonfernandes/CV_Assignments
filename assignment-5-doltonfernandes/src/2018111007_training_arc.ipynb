{
  "nbformat": 4,
  "nbformat_minor": 0,
  "metadata": {
    "colab": {
      "name": "2018111007_training_arc.ipynb",
      "provenance": [],
      "collapsed_sections": []
    },
    "kernelspec": {
      "name": "python3",
      "display_name": "Python 3"
    },
    "language_info": {
      "name": "python"
    },
    "accelerator": "GPU"
  },
  "cells": [
    {
      "cell_type": "markdown",
      "metadata": {
        "id": "rA9pjDcjpg0A"
      },
      "source": [
        "# **Computer Vision Assignment 5**"
      ]
    },
    {
      "cell_type": "code",
      "metadata": {
        "id": "Klt9b2wQpbI4"
      },
      "source": [
        "! pip install aicrowd-cli"
      ],
      "execution_count": null,
      "outputs": []
    },
    {
      "cell_type": "code",
      "metadata": {
        "colab": {
          "base_uri": "https://localhost:8080/"
        },
        "id": "N8WbSxS5tJF1",
        "outputId": "c5e51f3e-ec22-46be-b941-8feb3f67373f"
      },
      "source": [
        "API_KEY = \"375767f7b488df578d5c7e7ef9545f2d\" #Please enter your API Key from [https://www.aicrowd.com/participants/me]\n",
        "! aicrowd login --api-key $API_KEY"
      ],
      "execution_count": 7,
      "outputs": [
        {
          "output_type": "stream",
          "text": [
            "\u001b[32mAPI Key valid\u001b[0m\n",
            "\u001b[32mSaved API Key successfully!\u001b[0m\n"
          ],
          "name": "stdout"
        }
      ]
    },
    {
      "cell_type": "code",
      "metadata": {
        "colab": {
          "base_uri": "https://localhost:8080/"
        },
        "id": "kbK9jfV4tKDk",
        "outputId": "0247d643-4279-4b82-f71c-c0b0e3341aa3"
      },
      "source": [
        "! aicrowd dataset download --challenge chunin-exams-food-track-cv-2021"
      ],
      "execution_count": 8,
      "outputs": [
        {
          "output_type": "stream",
          "text": [
            "train_images.zip: 100% 754M/754M [00:19<00:00, 39.5MB/s]\n",
            "test_images.zip: 100% 33.9M/33.9M [00:01<00:00, 27.2MB/s]\n",
            "train.csv: 100% 253k/253k [00:00<00:00, 1.03MB/s]\n",
            "test.csv: 100% 7.27k/7.27k [00:00<00:00, 917kB/s]\n"
          ],
          "name": "stdout"
        }
      ]
    },
    {
      "cell_type": "code",
      "metadata": {
        "colab": {
          "base_uri": "https://localhost:8080/"
        },
        "id": "HU3AtK8ktOIp",
        "outputId": "a1808546-3fb4-48a0-81dc-04f030a52f98"
      },
      "source": [
        "! wget https://gitlab.aicrowd.com/aicrowd/practice-challenges/aicrowd_FOODC_challenge/-/raw/master/dataset_info.txt"
      ],
      "execution_count": 5,
      "outputs": [
        {
          "output_type": "stream",
          "text": [
            "--2021-04-18 11:19:51--  https://gitlab.aicrowd.com/aicrowd/practice-challenges/aicrowd_FOODC_challenge/-/raw/master/dataset_info.txt\n",
            "Resolving gitlab.aicrowd.com (gitlab.aicrowd.com)... 18.194.250.154, 18.195.114.113\n",
            "Connecting to gitlab.aicrowd.com (gitlab.aicrowd.com)|18.194.250.154|:443... connected.\n",
            "HTTP request sent, awaiting response... 200 OK\n",
            "Length: 3451 (3.4K) [text/plain]\n",
            "Saving to: ‘dataset_info.txt’\n",
            "\n",
            "dataset_info.txt    100%[===================>]   3.37K  --.-KB/s    in 0s      \n",
            "\n",
            "2021-04-18 11:19:52 (526 MB/s) - ‘dataset_info.txt’ saved [3451/3451]\n",
            "\n"
          ],
          "name": "stdout"
        }
      ]
    },
    {
      "cell_type": "code",
      "metadata": {
        "id": "OywDsVjYt7kx"
      },
      "source": [
        "# library imports\n",
        "import os\n",
        "import tqdm\n",
        "import random\n",
        "import time\n",
        "import shutil\n",
        "import cv2\n",
        "import numpy as np\n",
        "import torch\n",
        "import torch.optim as optim\n",
        "import torch.nn as nn\n",
        "import torch.nn.functional as F\n",
        "from torch.autograd import Variable\n",
        "from torch.utils.data import Dataset\n",
        "from torchvision import transforms\n",
        "import matplotlib.pyplot as plt"
      ],
      "execution_count": 151,
      "outputs": []
    },
    {
      "cell_type": "code",
      "metadata": {
        "id": "NGtTpzg_lOls"
      },
      "source": [
        "! rm -r data"
      ],
      "execution_count": 4,
      "outputs": []
    },
    {
      "cell_type": "code",
      "metadata": {
        "id": "UDL77RKltPOq"
      },
      "source": [
        "! unzip train_images.zip\n",
        "! unzip test_images.zip\n",
        "\n",
        "! mkdir data\n",
        "! mkdir data/train\n",
        "! mkdir data/val"
      ],
      "execution_count": 5,
      "outputs": []
    },
    {
      "cell_type": "code",
      "metadata": {
        "colab": {
          "base_uri": "https://localhost:8080/"
        },
        "id": "SYIff7N3tzIk",
        "outputId": "6414860d-38c7-474c-de43-e9bbe0d5f60b"
      },
      "source": [
        "! ls -1 test_images | wc -l\n",
        "! cat test.csv | wc -l\n",
        "\n",
        "! ls -1 train_images | wc -l\n",
        "! cat train.csv | wc -l"
      ],
      "execution_count": 6,
      "outputs": [
        {
          "output_type": "stream",
          "text": [
            "484\n",
            "485\n",
            "9323\n",
            "9324\n"
          ],
          "name": "stdout"
        }
      ]
    },
    {
      "cell_type": "markdown",
      "metadata": {
        "id": "QHgXbdIXyF1s"
      },
      "source": [
        "Creating label array"
      ]
    },
    {
      "cell_type": "code",
      "metadata": {
        "colab": {
          "base_uri": "https://localhost:8080/"
        },
        "id": "ktpMK-D0t3HN",
        "outputId": "efc61304-7e6b-4959-8f0d-5b47a741fc72"
      },
      "source": [
        "with open('dataset_info.txt', 'r') as f:\n",
        "  labels = f.read()\n",
        "\n",
        "labels = labels.split('\\n')[1:]\n",
        "labels = [ i.strip().split('. ')[-1] for i in labels ]\n",
        "labels[:5]"
      ],
      "execution_count": 7,
      "outputs": [
        {
          "output_type": "execute_result",
          "data": {
            "text/plain": [
              "['BG', 'water', 'pizza-margherita-baked', 'broccoli', 'salad-leaf-salad-green']"
            ]
          },
          "metadata": {
            "tags": []
          },
          "execution_count": 7
        }
      ]
    },
    {
      "cell_type": "markdown",
      "metadata": {
        "id": "I76C1EDeyJL9"
      },
      "source": [
        "Making label -> index and index -> label mapping"
      ]
    },
    {
      "cell_type": "code",
      "metadata": {
        "id": "Hiy1d9zFvXDP"
      },
      "source": [
        "lbl2idx = {}\n",
        "for i in range(len(labels)):\n",
        "  lbl2idx[labels[i]] = i\n",
        "\n",
        "idx2lbl = {}\n",
        "for i in range(len(labels)):\n",
        "  idx2lbl[i] = labels[i]"
      ],
      "execution_count": 8,
      "outputs": []
    },
    {
      "cell_type": "code",
      "metadata": {
        "id": "zasxQ63Mt4eH"
      },
      "source": [
        "for i in labels:\n",
        "  os.mkdir('data/train/' + i)\n",
        "  os.mkdir('data/val/' + i)"
      ],
      "execution_count": 9,
      "outputs": []
    },
    {
      "cell_type": "markdown",
      "metadata": {
        "id": "rKfwqTrryPsc"
      },
      "source": [
        "Splitting data into train and val"
      ]
    },
    {
      "cell_type": "code",
      "metadata": {
        "id": "Is_j6oqmuOMo"
      },
      "source": [
        "classwise_alltrain_images = {}\n",
        "classwise_train_images = {}\n",
        "classwise_val_images = {}\n",
        "\n",
        "with open('train.csv', 'r') as f:\n",
        "  trainData = f.read()\n",
        "\n",
        "trainData = trainData.split('\\n')[1:-1]\n",
        "trainData = [ i.split(',') for i in trainData ]\n",
        "for i in trainData:\n",
        "  try:\n",
        "    classwise_alltrain_images[i[1]]\n",
        "    classwise_alltrain_images[i[1]].append(i[0])\n",
        "  except:\n",
        "    classwise_alltrain_images[i[1]] = []"
      ],
      "execution_count": 10,
      "outputs": []
    },
    {
      "cell_type": "code",
      "metadata": {
        "id": "kvt0n8JYa5fA"
      },
      "source": [
        "for i in classwise_alltrain_images.keys():\n",
        "  sizee = int(len(classwise_alltrain_images[i]) * 0.7)\n",
        "  for j in range(sizee):\n",
        "    classwise_alltrain_images[i].pop()"
      ],
      "execution_count": 11,
      "outputs": []
    },
    {
      "cell_type": "code",
      "metadata": {
        "id": "T8Pi0sy_usaN"
      },
      "source": [
        "for i in classwise_alltrain_images.keys():\n",
        "  trainSamples = int(len(classwise_alltrain_images[i]) * 0.8)\n",
        "  trainSamples = random.sample(range(0, len(classwise_alltrain_images[i])), trainSamples)\n",
        "  testSamples = [ j for j in range(len(classwise_alltrain_images[i])) if j not in trainSamples ]\n",
        "  classwise_train_images[i] = [classwise_alltrain_images[i][j] for j in trainSamples]\n",
        "  classwise_val_images[i] = [classwise_alltrain_images[i][j] for j in testSamples]"
      ],
      "execution_count": 12,
      "outputs": []
    },
    {
      "cell_type": "code",
      "metadata": {
        "id": "ld0PGIS_utq4"
      },
      "source": [
        "for i in classwise_train_images.keys():\n",
        "  for j in classwise_train_images[i]:\n",
        "    shutil.copyfile('train_images/' + j, 'data/train/' + i + '/' + j)"
      ],
      "execution_count": 13,
      "outputs": []
    },
    {
      "cell_type": "code",
      "metadata": {
        "id": "acvEODzSu1eL"
      },
      "source": [
        "for i in classwise_val_images.keys():\n",
        "  for j in classwise_val_images[i]:\n",
        "    shutil.copyfile('train_images/' + j, 'data/val/' + i + '/' + j)"
      ],
      "execution_count": 14,
      "outputs": []
    },
    {
      "cell_type": "markdown",
      "metadata": {
        "id": "WCFZ2DwQySj1"
      },
      "source": [
        "Making list of all training and validation samples"
      ]
    },
    {
      "cell_type": "code",
      "metadata": {
        "id": "FV-79Qweu9jS"
      },
      "source": [
        "train_images_list = []\n",
        "train_labels_list = []\n",
        "for i in classwise_train_images.keys():\n",
        "  for j in classwise_train_images[i]:\n",
        "    train_images_list.append('data/train/' + i + '/' + j)\n",
        "    train_labels_list.append(lbl2idx[i])\n",
        "\n",
        "val_images_list = []\n",
        "val_labels_list = []\n",
        "for i in classwise_val_images.keys():\n",
        "  for j in classwise_val_images[i]:\n",
        "    val_images_list.append('data/val/' + i + '/' + j)\n",
        "    val_labels_list.append(lbl2idx[i])"
      ],
      "execution_count": 15,
      "outputs": []
    },
    {
      "cell_type": "markdown",
      "metadata": {
        "id": "ut4azkxJyU4E"
      },
      "source": [
        "Custom Food Dataset Dataset"
      ]
    },
    {
      "cell_type": "code",
      "metadata": {
        "id": "28n0C8iPv__y"
      },
      "source": [
        "class FoodData(Dataset):\n",
        "  def __init__(self, list_images, list_labels):\n",
        "    self.list_images = list_images\n",
        "    self.list_labels = list_labels\n",
        "\n",
        "  def __len__(self):\n",
        "    return len(self.list_labels)\n",
        "\n",
        "  def __getitem__(self, index):\n",
        "    img = cv2.imread(self.list_images[index], 0)\n",
        "    img = cv2.resize(img, (256, 256)).astype(np.float64) / 255\n",
        "    img = img.flatten()\n",
        "    lbl = np.zeros(len(labels)).astype(np.float)\n",
        "    lbl[self.list_labels[index]] = 1\n",
        "    return {'feature': img, 'label': lbl}"
      ],
      "execution_count": 209,
      "outputs": []
    },
    {
      "cell_type": "markdown",
      "metadata": {
        "id": "Rb61SxQ4yeKb"
      },
      "source": [
        "Creating Dataset object"
      ]
    },
    {
      "cell_type": "code",
      "metadata": {
        "id": "RHr-GT-jxSyR"
      },
      "source": [
        "train_dl = FoodData(train_images_list, train_labels_list)\n",
        "val_dl = FoodData(val_images_list, val_labels_list)"
      ],
      "execution_count": 210,
      "outputs": []
    },
    {
      "cell_type": "code",
      "metadata": {
        "colab": {
          "base_uri": "https://localhost:8080/"
        },
        "id": "gbaHTrVyYdFy",
        "outputId": "44a67322-13e1-4241-8b8a-9f922c65a10a"
      },
      "source": [
        "train_dl.__getitem__(0)['feature'].shape"
      ],
      "execution_count": 211,
      "outputs": [
        {
          "output_type": "execute_result",
          "data": {
            "text/plain": [
              "(65536,)"
            ]
          },
          "metadata": {
            "tags": []
          },
          "execution_count": 211
        }
      ]
    },
    {
      "cell_type": "markdown",
      "metadata": {
        "id": "Jgl9_wt-zIBB"
      },
      "source": [
        "Dataloader"
      ]
    },
    {
      "cell_type": "code",
      "metadata": {
        "id": "ZgDCKNiUxlYa"
      },
      "source": [
        "train_dataloader = torch.utils.data.DataLoader(train_dl, shuffle = False, batch_size = 128, num_workers = 2)\n",
        "val_dataloader = torch.utils.data.DataLoader(val_dl, shuffle = True, batch_size = 128, num_workers = 2)"
      ],
      "execution_count": 212,
      "outputs": []
    },
    {
      "cell_type": "markdown",
      "metadata": {
        "id": "Nq1GaP9n1L4s"
      },
      "source": [
        "Model"
      ]
    },
    {
      "cell_type": "code",
      "metadata": {
        "id": "uA1yvgec08jK"
      },
      "source": [
        "class FoodClassifier(nn.Module):\n",
        "  def __init__(self):\n",
        "    super(FoodClassifier, self).__init__()\n",
        "    self.layer1 = nn.Sequential(\n",
        "        nn.Linear(256*256, 1024, bias=True), \n",
        "        nn.ReLU(),\n",
        "        nn.Linear(1024, len(labels), bias=True)\n",
        "    )\n",
        "\n",
        "  def forward(self, x):\n",
        "    return torch.sigmoid(self.layer1(x))"
      ],
      "execution_count": 213,
      "outputs": []
    },
    {
      "cell_type": "markdown",
      "metadata": {
        "id": "R2Vz6yYJ38Xy"
      },
      "source": [
        "Training code"
      ]
    },
    {
      "cell_type": "code",
      "metadata": {
        "id": "sbDQWIFjLOPm"
      },
      "source": [
        "def check_cuda():\n",
        "    _cuda = False\n",
        "    if torch.cuda.is_available():\n",
        "        _cuda = True\n",
        "    return _cuda"
      ],
      "execution_count": 214,
      "outputs": []
    },
    {
      "cell_type": "code",
      "metadata": {
        "id": "kQXL8xQdI9dO"
      },
      "source": [
        "def train_model(model, train_loader, val_loader):\n",
        "    n_epochs = 10\n",
        "    bestModel = model\n",
        "    bestLoss = 1000000\n",
        "    \n",
        "    for epoch in range(n_epochs):\n",
        "        train_loss = 0.0\n",
        "        model.train()\n",
        "        for data_tmp in tqdm.tqdm(train_loader):\n",
        "            # move tensors to GPU\n",
        "            data, target = data_tmp['feature'].cuda().float(), data_tmp['label'].cuda().float()\n",
        "            optimizer.zero_grad()\n",
        "            output = model(data)\n",
        "            # calculate the batch loss\n",
        "            loss = criterion(output, target)\n",
        "            loss.backward()\n",
        "            optimizer.step()\n",
        "            train_loss += loss.item()*data.size(0)\n",
        "        # calculate average losses\n",
        "        train_loss = train_loss/len(train_loader.dataset)\n",
        "        # print training/validation statistics \n",
        "        print('Epoch: {} \\tTraining Loss: {:.6f}'.format(epoch+1, train_loss))\n",
        "        lossVal = val_model(model, val_dataloader)\n",
        "        train_losses.append(train_loss)\n",
        "        if lossVal < bestLoss:\n",
        "          bestLoss = lossVal\n",
        "          bestModel = model\n",
        "    return model"
      ],
      "execution_count": 215,
      "outputs": []
    },
    {
      "cell_type": "code",
      "metadata": {
        "id": "PabsxrWWizzY"
      },
      "source": [
        "def val_model(model, test_loader):\n",
        "    losss = 0.0\n",
        "    correct = 0\n",
        "    total = 0\n",
        "\n",
        "    model.eval()\n",
        "    for data_tmp in tqdm.tqdm(test_loader):\n",
        "        # move tensors to GPU\n",
        "        data, target = data_tmp['feature'].cuda().float(), data_tmp['label'].cuda().float()\n",
        "        output = model(data)\n",
        "        loss = criterion(output, target)\n",
        "        losss += loss.item()*data.size(0)\n",
        "        _, pred = torch.max(output, 1)\n",
        "        _, gt = torch.max(target, 1)\n",
        "        correct += (pred == gt).sum().cpu().detach().numpy()\n",
        "        total += len(gt)\n",
        "    val_losses.append(losss)\n",
        "    print('\\nValidation loss =',losss)\n",
        "    print('Validation accuracy =', (correct / total) * 100, '%')\n",
        "    return losss"
      ],
      "execution_count": 216,
      "outputs": []
    },
    {
      "cell_type": "code",
      "metadata": {
        "id": "MzKKO4SLGOYi"
      },
      "source": [
        "is_cuda = check_cuda()\n",
        "model = FoodClassifier()\n",
        "if is_cuda:\n",
        "    model.cuda()\n",
        "\n",
        "criterion = nn.BCELoss()\n",
        "optimizer = optim.SGD(model.parameters(), lr = 0.01, momentum = 0.9, weight_decay = 1e-5)"
      ],
      "execution_count": 217,
      "outputs": []
    },
    {
      "cell_type": "code",
      "metadata": {
        "id": "OG6rMRMh-xgE"
      },
      "source": [
        "def plotGraph(epochs, train, val, labels):\n",
        "  plt.figure(figsize=(10, 10))\n",
        "  for j in range(len(train)):\n",
        "    plt.plot([ i + 1 for i in range(epochs) ], train[j], linestyle='solid', label='Train Loss: ' + labels[j])\n",
        "    plt.plot([ i + 1 for i in range(epochs) ], val[j], linestyle='dotted', label='Validation Loss: ' + labels[j])\n",
        "  plt.legend()"
      ],
      "execution_count": 218,
      "outputs": []
    },
    {
      "cell_type": "code",
      "metadata": {
        "colab": {
          "base_uri": "https://localhost:8080/"
        },
        "id": "rllVh0SCKgZs",
        "outputId": "32afd3ef-00ad-4004-bbed-2a98b0adcbcc"
      },
      "source": [
        "train_losses, val_losses = [], []\n",
        "model = train_model(model, train_dataloader, val_dataloader)"
      ],
      "execution_count": 219,
      "outputs": [
        {
          "output_type": "stream",
          "text": [
            "100%|██████████| 18/18 [00:05<00:00,  3.02it/s]\n",
            "  0%|          | 0/5 [00:00<?, ?it/s]"
          ],
          "name": "stderr"
        },
        {
          "output_type": "stream",
          "text": [
            "Epoch: 1 \tTraining Loss: 0.231875\n"
          ],
          "name": "stdout"
        },
        {
          "output_type": "stream",
          "text": [
            "100%|██████████| 5/5 [00:01<00:00,  2.94it/s]\n",
            "  0%|          | 0/18 [00:00<?, ?it/s]"
          ],
          "name": "stderr"
        },
        {
          "output_type": "stream",
          "text": [
            "\n",
            "Validation loss = 76.08961963653564\n",
            "Validation accuracy = 4.081632653061225 %\n"
          ],
          "name": "stdout"
        },
        {
          "output_type": "stream",
          "text": [
            "100%|██████████| 18/18 [00:05<00:00,  3.08it/s]\n",
            "  0%|          | 0/5 [00:00<?, ?it/s]"
          ],
          "name": "stderr"
        },
        {
          "output_type": "stream",
          "text": [
            "Epoch: 2 \tTraining Loss: 0.147145\n"
          ],
          "name": "stdout"
        },
        {
          "output_type": "stream",
          "text": [
            "100%|██████████| 5/5 [00:01<00:00,  2.97it/s]\n",
            "  0%|          | 0/18 [00:00<?, ?it/s]"
          ],
          "name": "stderr"
        },
        {
          "output_type": "stream",
          "text": [
            "\n",
            "Validation loss = 74.11666160821915\n",
            "Validation accuracy = 3.9115646258503403 %\n"
          ],
          "name": "stdout"
        },
        {
          "output_type": "stream",
          "text": [
            "100%|██████████| 18/18 [00:05<00:00,  3.03it/s]\n",
            "  0%|          | 0/5 [00:00<?, ?it/s]"
          ],
          "name": "stderr"
        },
        {
          "output_type": "stream",
          "text": [
            "Epoch: 3 \tTraining Loss: 0.145298\n"
          ],
          "name": "stdout"
        },
        {
          "output_type": "stream",
          "text": [
            "100%|██████████| 5/5 [00:01<00:00,  2.96it/s]\n",
            "  0%|          | 0/18 [00:00<?, ?it/s]"
          ],
          "name": "stderr"
        },
        {
          "output_type": "stream",
          "text": [
            "\n",
            "Validation loss = 55.099739611148834\n",
            "Validation accuracy = 3.9115646258503403 %\n"
          ],
          "name": "stdout"
        },
        {
          "output_type": "stream",
          "text": [
            "100%|██████████| 18/18 [00:05<00:00,  3.03it/s]\n",
            "  0%|          | 0/5 [00:00<?, ?it/s]"
          ],
          "name": "stderr"
        },
        {
          "output_type": "stream",
          "text": [
            "Epoch: 4 \tTraining Loss: 0.109318\n"
          ],
          "name": "stdout"
        },
        {
          "output_type": "stream",
          "text": [
            "100%|██████████| 5/5 [00:01<00:00,  2.89it/s]\n",
            "  0%|          | 0/18 [00:00<?, ?it/s]"
          ],
          "name": "stderr"
        },
        {
          "output_type": "stream",
          "text": [
            "\n",
            "Validation loss = 56.509683072566986\n",
            "Validation accuracy = 3.4013605442176873 %\n"
          ],
          "name": "stdout"
        },
        {
          "output_type": "stream",
          "text": [
            "100%|██████████| 18/18 [00:05<00:00,  3.03it/s]\n",
            "  0%|          | 0/5 [00:00<?, ?it/s]"
          ],
          "name": "stderr"
        },
        {
          "output_type": "stream",
          "text": [
            "Epoch: 5 \tTraining Loss: 0.111778\n"
          ],
          "name": "stdout"
        },
        {
          "output_type": "stream",
          "text": [
            "100%|██████████| 5/5 [00:01<00:00,  2.98it/s]\n",
            "  0%|          | 0/18 [00:00<?, ?it/s]"
          ],
          "name": "stderr"
        },
        {
          "output_type": "stream",
          "text": [
            "\n",
            "Validation loss = 52.66549187898636\n",
            "Validation accuracy = 4.081632653061225 %\n"
          ],
          "name": "stdout"
        },
        {
          "output_type": "stream",
          "text": [
            "100%|██████████| 18/18 [00:05<00:00,  3.09it/s]\n",
            "  0%|          | 0/5 [00:00<?, ?it/s]"
          ],
          "name": "stderr"
        },
        {
          "output_type": "stream",
          "text": [
            "Epoch: 6 \tTraining Loss: 0.102286\n"
          ],
          "name": "stdout"
        },
        {
          "output_type": "stream",
          "text": [
            "100%|██████████| 5/5 [00:01<00:00,  2.95it/s]\n",
            "  0%|          | 0/18 [00:00<?, ?it/s]"
          ],
          "name": "stderr"
        },
        {
          "output_type": "stream",
          "text": [
            "\n",
            "Validation loss = 52.797542452812195\n",
            "Validation accuracy = 3.741496598639456 %\n"
          ],
          "name": "stdout"
        },
        {
          "output_type": "stream",
          "text": [
            "100%|██████████| 18/18 [00:05<00:00,  3.03it/s]\n",
            "  0%|          | 0/5 [00:00<?, ?it/s]"
          ],
          "name": "stderr"
        },
        {
          "output_type": "stream",
          "text": [
            "Epoch: 7 \tTraining Loss: 0.101923\n"
          ],
          "name": "stdout"
        },
        {
          "output_type": "stream",
          "text": [
            "100%|██████████| 5/5 [00:01<00:00,  2.97it/s]\n",
            "  0%|          | 0/18 [00:00<?, ?it/s]"
          ],
          "name": "stderr"
        },
        {
          "output_type": "stream",
          "text": [
            "\n",
            "Validation loss = 51.65689700841904\n",
            "Validation accuracy = 4.081632653061225 %\n"
          ],
          "name": "stdout"
        },
        {
          "output_type": "stream",
          "text": [
            "100%|██████████| 18/18 [00:05<00:00,  3.06it/s]\n",
            "  0%|          | 0/5 [00:00<?, ?it/s]"
          ],
          "name": "stderr"
        },
        {
          "output_type": "stream",
          "text": [
            "Epoch: 8 \tTraining Loss: 0.098522\n"
          ],
          "name": "stdout"
        },
        {
          "output_type": "stream",
          "text": [
            "100%|██████████| 5/5 [00:01<00:00,  2.85it/s]\n",
            "  0%|          | 0/18 [00:00<?, ?it/s]"
          ],
          "name": "stderr"
        },
        {
          "output_type": "stream",
          "text": [
            "\n",
            "Validation loss = 51.38985678553581\n",
            "Validation accuracy = 3.571428571428571 %\n"
          ],
          "name": "stdout"
        },
        {
          "output_type": "stream",
          "text": [
            "100%|██████████| 18/18 [00:05<00:00,  3.05it/s]\n",
            "  0%|          | 0/5 [00:00<?, ?it/s]"
          ],
          "name": "stderr"
        },
        {
          "output_type": "stream",
          "text": [
            "Epoch: 9 \tTraining Loss: 0.097375\n"
          ],
          "name": "stdout"
        },
        {
          "output_type": "stream",
          "text": [
            "100%|██████████| 5/5 [00:01<00:00,  2.95it/s]\n",
            "  0%|          | 0/18 [00:00<?, ?it/s]"
          ],
          "name": "stderr"
        },
        {
          "output_type": "stream",
          "text": [
            "\n",
            "Validation loss = 50.968757688999176\n",
            "Validation accuracy = 3.741496598639456 %\n"
          ],
          "name": "stdout"
        },
        {
          "output_type": "stream",
          "text": [
            "100%|██████████| 18/18 [00:05<00:00,  3.03it/s]\n",
            "  0%|          | 0/5 [00:00<?, ?it/s]"
          ],
          "name": "stderr"
        },
        {
          "output_type": "stream",
          "text": [
            "Epoch: 10 \tTraining Loss: 0.095858\n"
          ],
          "name": "stdout"
        },
        {
          "output_type": "stream",
          "text": [
            "100%|██████████| 5/5 [00:01<00:00,  2.89it/s]"
          ],
          "name": "stderr"
        },
        {
          "output_type": "stream",
          "text": [
            "\n",
            "Validation loss = 50.72527480125427\n",
            "Validation accuracy = 3.741496598639456 %\n"
          ],
          "name": "stdout"
        },
        {
          "output_type": "stream",
          "text": [
            "\n"
          ],
          "name": "stderr"
        }
      ]
    },
    {
      "cell_type": "code",
      "metadata": {
        "id": "de_qiLK7CNMz"
      },
      "source": [
        "plotTrain, plotVal = [], []\n",
        "plotTrain.append(np.array(train_losses))\n",
        "plotVal.append(np.array(val_losses))"
      ],
      "execution_count": 220,
      "outputs": []
    },
    {
      "cell_type": "markdown",
      "metadata": {
        "id": "htGD1ldC9fR1"
      },
      "source": [
        "### **1) With Batch Norm**"
      ]
    },
    {
      "cell_type": "code",
      "metadata": {
        "id": "AazTaZB79euI"
      },
      "source": [
        "class FoodClassifier(nn.Module):\n",
        "  def __init__(self):\n",
        "    super(FoodClassifier, self).__init__()\n",
        "    self.layer1 = nn.Sequential(\n",
        "        nn.Linear(256*256, 1024, bias=True), \n",
        "        nn.BatchNorm1d(1024),\n",
        "        nn.ReLU(),\n",
        "        nn.Linear(1024, len(labels), bias=True)\n",
        "    )\n",
        "\n",
        "  def forward(self, x):\n",
        "    return torch.sigmoid(self.layer1(x))"
      ],
      "execution_count": 221,
      "outputs": []
    },
    {
      "cell_type": "code",
      "metadata": {
        "colab": {
          "base_uri": "https://localhost:8080/"
        },
        "id": "V1FZt9k99QLa",
        "outputId": "bf9d1447-7fc0-4cd6-9553-b1f47c565491"
      },
      "source": [
        "is_cuda = check_cuda()\n",
        "model = FoodClassifier()\n",
        "if is_cuda:\n",
        "    model.cuda()\n",
        "\n",
        "criterion = nn.BCELoss()\n",
        "optimizer = optim.SGD(model.parameters(), lr = 0.01, momentum = 0.9, weight_decay = 1e-5)\n",
        "\n",
        "train_losses, val_losses = [], []\n",
        "model = train_model(model, train_dataloader, val_dataloader)"
      ],
      "execution_count": 222,
      "outputs": [
        {
          "output_type": "stream",
          "text": [
            "100%|██████████| 18/18 [00:06<00:00,  3.00it/s]\n",
            "  0%|          | 0/5 [00:00<?, ?it/s]"
          ],
          "name": "stderr"
        },
        {
          "output_type": "stream",
          "text": [
            "Epoch: 1 \tTraining Loss: 0.552203\n"
          ],
          "name": "stdout"
        },
        {
          "output_type": "stream",
          "text": [
            "100%|██████████| 5/5 [00:01<00:00,  2.97it/s]\n",
            "  0%|          | 0/18 [00:00<?, ?it/s]"
          ],
          "name": "stderr"
        },
        {
          "output_type": "stream",
          "text": [
            "\n",
            "Validation loss = 252.4161093235016\n",
            "Validation accuracy = 1.530612244897959 %\n"
          ],
          "name": "stdout"
        },
        {
          "output_type": "stream",
          "text": [
            "100%|██████████| 18/18 [00:05<00:00,  3.03it/s]\n",
            "  0%|          | 0/5 [00:00<?, ?it/s]"
          ],
          "name": "stderr"
        },
        {
          "output_type": "stream",
          "text": [
            "Epoch: 2 \tTraining Loss: 0.224793\n"
          ],
          "name": "stdout"
        },
        {
          "output_type": "stream",
          "text": [
            "100%|██████████| 5/5 [00:01<00:00,  2.90it/s]\n",
            "  0%|          | 0/18 [00:00<?, ?it/s]"
          ],
          "name": "stderr"
        },
        {
          "output_type": "stream",
          "text": [
            "\n",
            "Validation loss = 97.54006487131119\n",
            "Validation accuracy = 1.7006802721088436 %\n"
          ],
          "name": "stdout"
        },
        {
          "output_type": "stream",
          "text": [
            "100%|██████████| 18/18 [00:05<00:00,  3.06it/s]\n",
            "  0%|          | 0/5 [00:00<?, ?it/s]"
          ],
          "name": "stderr"
        },
        {
          "output_type": "stream",
          "text": [
            "Epoch: 3 \tTraining Loss: 0.134125\n"
          ],
          "name": "stdout"
        },
        {
          "output_type": "stream",
          "text": [
            "100%|██████████| 5/5 [00:01<00:00,  2.98it/s]\n",
            "  0%|          | 0/18 [00:00<?, ?it/s]"
          ],
          "name": "stderr"
        },
        {
          "output_type": "stream",
          "text": [
            "\n",
            "Validation loss = 64.78064098954201\n",
            "Validation accuracy = 3.061224489795918 %\n"
          ],
          "name": "stdout"
        },
        {
          "output_type": "stream",
          "text": [
            "100%|██████████| 18/18 [00:05<00:00,  3.03it/s]\n",
            "  0%|          | 0/5 [00:00<?, ?it/s]"
          ],
          "name": "stderr"
        },
        {
          "output_type": "stream",
          "text": [
            "Epoch: 4 \tTraining Loss: 0.107165\n"
          ],
          "name": "stdout"
        },
        {
          "output_type": "stream",
          "text": [
            "100%|██████████| 5/5 [00:01<00:00,  2.93it/s]\n",
            "  0%|          | 0/18 [00:00<?, ?it/s]"
          ],
          "name": "stderr"
        },
        {
          "output_type": "stream",
          "text": [
            "\n",
            "Validation loss = 60.167293816804886\n",
            "Validation accuracy = 3.741496598639456 %\n"
          ],
          "name": "stdout"
        },
        {
          "output_type": "stream",
          "text": [
            "100%|██████████| 18/18 [00:06<00:00,  2.98it/s]\n",
            "  0%|          | 0/5 [00:00<?, ?it/s]"
          ],
          "name": "stderr"
        },
        {
          "output_type": "stream",
          "text": [
            "Epoch: 5 \tTraining Loss: 0.094596\n"
          ],
          "name": "stdout"
        },
        {
          "output_type": "stream",
          "text": [
            "100%|██████████| 5/5 [00:01<00:00,  2.88it/s]\n",
            "  0%|          | 0/18 [00:00<?, ?it/s]"
          ],
          "name": "stderr"
        },
        {
          "output_type": "stream",
          "text": [
            "\n",
            "Validation loss = 56.943482398986816\n",
            "Validation accuracy = 4.421768707482993 %\n"
          ],
          "name": "stdout"
        },
        {
          "output_type": "stream",
          "text": [
            "100%|██████████| 18/18 [00:05<00:00,  3.03it/s]\n",
            "  0%|          | 0/5 [00:00<?, ?it/s]"
          ],
          "name": "stderr"
        },
        {
          "output_type": "stream",
          "text": [
            "Epoch: 6 \tTraining Loss: 0.086797\n"
          ],
          "name": "stdout"
        },
        {
          "output_type": "stream",
          "text": [
            "100%|██████████| 5/5 [00:01<00:00,  2.92it/s]\n",
            "  0%|          | 0/18 [00:00<?, ?it/s]"
          ],
          "name": "stderr"
        },
        {
          "output_type": "stream",
          "text": [
            "\n",
            "Validation loss = 55.4551083445549\n",
            "Validation accuracy = 4.761904761904762 %\n"
          ],
          "name": "stdout"
        },
        {
          "output_type": "stream",
          "text": [
            "100%|██████████| 18/18 [00:05<00:00,  3.09it/s]\n",
            "  0%|          | 0/5 [00:00<?, ?it/s]"
          ],
          "name": "stderr"
        },
        {
          "output_type": "stream",
          "text": [
            "Epoch: 7 \tTraining Loss: 0.081257\n"
          ],
          "name": "stdout"
        },
        {
          "output_type": "stream",
          "text": [
            "100%|██████████| 5/5 [00:01<00:00,  2.96it/s]\n",
            "  0%|          | 0/18 [00:00<?, ?it/s]"
          ],
          "name": "stderr"
        },
        {
          "output_type": "stream",
          "text": [
            "\n",
            "Validation loss = 54.02782961726189\n",
            "Validation accuracy = 5.1020408163265305 %\n"
          ],
          "name": "stdout"
        },
        {
          "output_type": "stream",
          "text": [
            "100%|██████████| 18/18 [00:05<00:00,  3.03it/s]\n",
            "  0%|          | 0/5 [00:00<?, ?it/s]"
          ],
          "name": "stderr"
        },
        {
          "output_type": "stream",
          "text": [
            "Epoch: 8 \tTraining Loss: 0.076980\n"
          ],
          "name": "stdout"
        },
        {
          "output_type": "stream",
          "text": [
            "100%|██████████| 5/5 [00:01<00:00,  2.96it/s]\n",
            "  0%|          | 0/18 [00:00<?, ?it/s]"
          ],
          "name": "stderr"
        },
        {
          "output_type": "stream",
          "text": [
            "\n",
            "Validation loss = 52.86738437414169\n",
            "Validation accuracy = 5.272108843537415 %\n"
          ],
          "name": "stdout"
        },
        {
          "output_type": "stream",
          "text": [
            "100%|██████████| 18/18 [00:05<00:00,  3.04it/s]\n",
            "  0%|          | 0/5 [00:00<?, ?it/s]"
          ],
          "name": "stderr"
        },
        {
          "output_type": "stream",
          "text": [
            "Epoch: 9 \tTraining Loss: 0.073488\n"
          ],
          "name": "stdout"
        },
        {
          "output_type": "stream",
          "text": [
            "100%|██████████| 5/5 [00:01<00:00,  2.91it/s]\n",
            "  0%|          | 0/18 [00:00<?, ?it/s]"
          ],
          "name": "stderr"
        },
        {
          "output_type": "stream",
          "text": [
            "\n",
            "Validation loss = 52.15265494585037\n",
            "Validation accuracy = 5.272108843537415 %\n"
          ],
          "name": "stdout"
        },
        {
          "output_type": "stream",
          "text": [
            "100%|██████████| 18/18 [00:06<00:00,  2.99it/s]\n",
            "  0%|          | 0/5 [00:00<?, ?it/s]"
          ],
          "name": "stderr"
        },
        {
          "output_type": "stream",
          "text": [
            "Epoch: 10 \tTraining Loss: 0.070537\n"
          ],
          "name": "stdout"
        },
        {
          "output_type": "stream",
          "text": [
            "100%|██████████| 5/5 [00:01<00:00,  2.88it/s]"
          ],
          "name": "stderr"
        },
        {
          "output_type": "stream",
          "text": [
            "\n",
            "Validation loss = 51.44371783733368\n",
            "Validation accuracy = 5.612244897959184 %\n"
          ],
          "name": "stdout"
        },
        {
          "output_type": "stream",
          "text": [
            "\n"
          ],
          "name": "stderr"
        }
      ]
    },
    {
      "cell_type": "code",
      "metadata": {
        "id": "zYaeY1E4C2Fl"
      },
      "source": [
        "plotTrain.append(np.array(train_losses))\n",
        "plotVal.append(np.array(val_losses))"
      ],
      "execution_count": 223,
      "outputs": []
    },
    {
      "cell_type": "code",
      "metadata": {
        "colab": {
          "base_uri": "https://localhost:8080/",
          "height": 592
        },
        "id": "gz4i4yJACy_I",
        "outputId": "d77f58d7-fb22-41b1-f6b4-caca51e3b067"
      },
      "source": [
        "plotGraph(10, plotTrain, plotVal, ['Without batch norm', 'With batch norm'])"
      ],
      "execution_count": 226,
      "outputs": [
        {
          "output_type": "display_data",
          "data": {
            "image/png": "[encoded data removed]",
            "text/plain": [
              "<Figure size 720x720 with 1 Axes>"
            ]
          },
          "metadata": {
            "tags": [],
            "needs_background": "light"
          }
        }
      ]
    },
    {
      "cell_type": "markdown",
      "metadata": {
        "id": "HhP2WJlinA98"
      },
      "source": [
        "With batch normalization the accuracy increased from 3.74% to 5.61%"
      ]
    },
    {
      "cell_type": "markdown",
      "metadata": {
        "id": "8rLnM9COnLUa"
      },
      "source": [
        "### **2) Adding new layers**"
      ]
    },
    {
      "cell_type": "code",
      "metadata": {
        "id": "yLl-1ghhnKhT"
      },
      "source": [
        "class FoodClassifier(nn.Module):\n",
        "  def __init__(self):\n",
        "    super(FoodClassifier, self).__init__()\n",
        "    self.layer1 = nn.Sequential(\n",
        "        nn.Linear(256*256, 1024, bias=True), \n",
        "        nn.ReLU(),\n",
        "        nn.Linear(1024, 512, bias=True), \n",
        "        nn.ReLU(),\n",
        "        nn.Linear(512, 128, bias=True), \n",
        "        nn.ReLU(),\n",
        "        nn.Linear(128, len(labels), bias=True)\n",
        "    )\n",
        "\n",
        "  def forward(self, x):\n",
        "    return torch.sigmoid(self.layer1(x))"
      ],
      "execution_count": 227,
      "outputs": []
    },
    {
      "cell_type": "code",
      "metadata": {
        "colab": {
          "base_uri": "https://localhost:8080/"
        },
        "id": "AevHGBMbncPY",
        "outputId": "d7ec994a-1cfa-4e14-ad6d-9d908a8fdea7"
      },
      "source": [
        "is_cuda = check_cuda()\n",
        "model = FoodClassifier()\n",
        "if is_cuda:\n",
        "    model.cuda()\n",
        "\n",
        "criterion = nn.BCELoss()\n",
        "optimizer = optim.SGD(model.parameters(), lr = 0.01, momentum = 0.9, weight_decay = 1e-5)\n",
        "\n",
        "train_losses, val_losses = [], []\n",
        "model = train_model(model, train_dataloader, val_dataloader)"
      ],
      "execution_count": 228,
      "outputs": [
        {
          "output_type": "stream",
          "text": [
            "100%|██████████| 18/18 [00:06<00:00,  2.96it/s]\n",
            "  0%|          | 0/5 [00:00<?, ?it/s]"
          ],
          "name": "stderr"
        },
        {
          "output_type": "stream",
          "text": [
            "Epoch: 1 \tTraining Loss: 0.617600\n"
          ],
          "name": "stdout"
        },
        {
          "output_type": "stream",
          "text": [
            "100%|██████████| 5/5 [00:01<00:00,  2.96it/s]\n",
            "  0%|          | 0/18 [00:00<?, ?it/s]"
          ],
          "name": "stderr"
        },
        {
          "output_type": "stream",
          "text": [
            "\n",
            "Validation loss = 229.14795112609863\n",
            "Validation accuracy = 0.5102040816326531 %\n"
          ],
          "name": "stdout"
        },
        {
          "output_type": "stream",
          "text": [
            "100%|██████████| 18/18 [00:05<00:00,  3.02it/s]\n",
            "  0%|          | 0/5 [00:00<?, ?it/s]"
          ],
          "name": "stderr"
        },
        {
          "output_type": "stream",
          "text": [
            "Epoch: 2 \tTraining Loss: 0.165271\n"
          ],
          "name": "stdout"
        },
        {
          "output_type": "stream",
          "text": [
            "100%|██████████| 5/5 [00:01<00:00,  2.88it/s]\n",
            "  0%|          | 0/18 [00:00<?, ?it/s]"
          ],
          "name": "stderr"
        },
        {
          "output_type": "stream",
          "text": [
            "\n",
            "Validation loss = 70.37047472596169\n",
            "Validation accuracy = 3.741496598639456 %\n"
          ],
          "name": "stdout"
        },
        {
          "output_type": "stream",
          "text": [
            "100%|██████████| 18/18 [00:06<00:00,  2.99it/s]\n",
            "  0%|          | 0/5 [00:00<?, ?it/s]"
          ],
          "name": "stderr"
        },
        {
          "output_type": "stream",
          "text": [
            "Epoch: 3 \tTraining Loss: 0.116504\n"
          ],
          "name": "stdout"
        },
        {
          "output_type": "stream",
          "text": [
            "100%|██████████| 5/5 [00:01<00:00,  2.87it/s]\n",
            "  0%|          | 0/18 [00:00<?, ?it/s]"
          ],
          "name": "stderr"
        },
        {
          "output_type": "stream",
          "text": [
            "\n",
            "Validation loss = 54.52801811695099\n",
            "Validation accuracy = 4.081632653061225 %\n"
          ],
          "name": "stdout"
        },
        {
          "output_type": "stream",
          "text": [
            "100%|██████████| 18/18 [00:06<00:00,  2.95it/s]\n",
            "  0%|          | 0/5 [00:00<?, ?it/s]"
          ],
          "name": "stderr"
        },
        {
          "output_type": "stream",
          "text": [
            "Epoch: 4 \tTraining Loss: 0.095081\n"
          ],
          "name": "stdout"
        },
        {
          "output_type": "stream",
          "text": [
            "100%|██████████| 5/5 [00:01<00:00,  2.89it/s]\n",
            "  0%|          | 0/18 [00:00<?, ?it/s]"
          ],
          "name": "stderr"
        },
        {
          "output_type": "stream",
          "text": [
            "\n",
            "Validation loss = 50.746523052453995\n",
            "Validation accuracy = 8.843537414965986 %\n"
          ],
          "name": "stdout"
        },
        {
          "output_type": "stream",
          "text": [
            "100%|██████████| 18/18 [00:06<00:00,  2.97it/s]\n",
            "  0%|          | 0/5 [00:00<?, ?it/s]"
          ],
          "name": "stderr"
        },
        {
          "output_type": "stream",
          "text": [
            "Epoch: 5 \tTraining Loss: 0.091396\n"
          ],
          "name": "stdout"
        },
        {
          "output_type": "stream",
          "text": [
            "100%|██████████| 5/5 [00:01<00:00,  2.92it/s]\n",
            "  0%|          | 0/18 [00:00<?, ?it/s]"
          ],
          "name": "stderr"
        },
        {
          "output_type": "stream",
          "text": [
            "\n",
            "Validation loss = 50.62045130133629\n",
            "Validation accuracy = 6.122448979591836 %\n"
          ],
          "name": "stdout"
        },
        {
          "output_type": "stream",
          "text": [
            "100%|██████████| 18/18 [00:05<00:00,  3.02it/s]\n",
            "  0%|          | 0/5 [00:00<?, ?it/s]"
          ],
          "name": "stderr"
        },
        {
          "output_type": "stream",
          "text": [
            "Epoch: 6 \tTraining Loss: 0.090875\n"
          ],
          "name": "stdout"
        },
        {
          "output_type": "stream",
          "text": [
            "100%|██████████| 5/5 [00:01<00:00,  2.89it/s]\n",
            "  0%|          | 0/18 [00:00<?, ?it/s]"
          ],
          "name": "stderr"
        },
        {
          "output_type": "stream",
          "text": [
            "\n",
            "Validation loss = 50.151668936014175\n",
            "Validation accuracy = 4.081632653061225 %\n"
          ],
          "name": "stdout"
        },
        {
          "output_type": "stream",
          "text": [
            "100%|██████████| 18/18 [00:06<00:00,  2.99it/s]\n",
            "  0%|          | 0/5 [00:00<?, ?it/s]"
          ],
          "name": "stderr"
        },
        {
          "output_type": "stream",
          "text": [
            "Epoch: 7 \tTraining Loss: 0.089930\n"
          ],
          "name": "stdout"
        },
        {
          "output_type": "stream",
          "text": [
            "100%|██████████| 5/5 [00:01<00:00,  2.97it/s]\n",
            "  0%|          | 0/18 [00:00<?, ?it/s]"
          ],
          "name": "stderr"
        },
        {
          "output_type": "stream",
          "text": [
            "\n",
            "Validation loss = 50.19689694046974\n",
            "Validation accuracy = 4.081632653061225 %\n"
          ],
          "name": "stdout"
        },
        {
          "output_type": "stream",
          "text": [
            "100%|██████████| 18/18 [00:06<00:00,  2.98it/s]\n",
            "  0%|          | 0/5 [00:00<?, ?it/s]"
          ],
          "name": "stderr"
        },
        {
          "output_type": "stream",
          "text": [
            "Epoch: 8 \tTraining Loss: 0.089930\n"
          ],
          "name": "stdout"
        },
        {
          "output_type": "stream",
          "text": [
            "100%|██████████| 5/5 [00:01<00:00,  2.95it/s]\n",
            "  0%|          | 0/18 [00:00<?, ?it/s]"
          ],
          "name": "stderr"
        },
        {
          "output_type": "stream",
          "text": [
            "\n",
            "Validation loss = 50.05526101589203\n",
            "Validation accuracy = 6.122448979591836 %\n"
          ],
          "name": "stdout"
        },
        {
          "output_type": "stream",
          "text": [
            "100%|██████████| 18/18 [00:06<00:00,  2.97it/s]\n",
            "  0%|          | 0/5 [00:00<?, ?it/s]"
          ],
          "name": "stderr"
        },
        {
          "output_type": "stream",
          "text": [
            "Epoch: 9 \tTraining Loss: 0.089536\n"
          ],
          "name": "stdout"
        },
        {
          "output_type": "stream",
          "text": [
            "100%|██████████| 5/5 [00:01<00:00,  2.88it/s]\n",
            "  0%|          | 0/18 [00:00<?, ?it/s]"
          ],
          "name": "stderr"
        },
        {
          "output_type": "stream",
          "text": [
            "\n",
            "Validation loss = 50.04879587888718\n",
            "Validation accuracy = 6.122448979591836 %\n"
          ],
          "name": "stdout"
        },
        {
          "output_type": "stream",
          "text": [
            "100%|██████████| 18/18 [00:06<00:00,  2.99it/s]\n",
            "  0%|          | 0/5 [00:00<?, ?it/s]"
          ],
          "name": "stderr"
        },
        {
          "output_type": "stream",
          "text": [
            "Epoch: 10 \tTraining Loss: 0.089438\n"
          ],
          "name": "stdout"
        },
        {
          "output_type": "stream",
          "text": [
            "100%|██████████| 5/5 [00:01<00:00,  2.84it/s]"
          ],
          "name": "stderr"
        },
        {
          "output_type": "stream",
          "text": [
            "\n",
            "Validation loss = 49.989782869815826\n",
            "Validation accuracy = 6.122448979591836 %\n"
          ],
          "name": "stdout"
        },
        {
          "output_type": "stream",
          "text": [
            "\n"
          ],
          "name": "stderr"
        }
      ]
    },
    {
      "cell_type": "code",
      "metadata": {
        "id": "wenXADkcneyq"
      },
      "source": [
        "plotTrain.pop()\n",
        "plotVal.pop()\n",
        "plotTrain.append(train_losses)\n",
        "plotVal.append(val_losses)"
      ],
      "execution_count": 232,
      "outputs": []
    },
    {
      "cell_type": "code",
      "metadata": {
        "colab": {
          "base_uri": "https://localhost:8080/",
          "height": 592
        },
        "id": "c65ZaYEWEzDO",
        "outputId": "b23f5868-a194-4caf-b106-ac9447c717b3"
      },
      "source": [
        "plotGraph(10, plotTrain, plotVal, ['With 2 layers', 'With 4 layers'])"
      ],
      "execution_count": 234,
      "outputs": [
        {
          "output_type": "display_data",
          "data": {
            "image/png": "[encoded data removed]",
            "text/plain": [
              "<Figure size 720x720 with 1 Axes>"
            ]
          },
          "metadata": {
            "tags": [],
            "needs_background": "light"
          }
        }
      ]
    },
    {
      "cell_type": "markdown",
      "metadata": {
        "id": "VU9uPRw9n3aF"
      },
      "source": [
        "With 2 layers we get an accuracy of 3.74% and with 4 layers we get 6.12% as accuracy."
      ]
    },
    {
      "cell_type": "markdown",
      "metadata": {
        "id": "505xSSH7oG44"
      },
      "source": [
        "### **3) With Dropout**"
      ]
    },
    {
      "cell_type": "code",
      "metadata": {
        "id": "-PUT8g_RoFh5"
      },
      "source": [
        "class FoodClassifier(nn.Module):\n",
        "  def __init__(self):\n",
        "    super(FoodClassifier, self).__init__()\n",
        "    self.layer1 = nn.Sequential(\n",
        "        nn.Linear(256*256, 1024, bias=True), \n",
        "        nn.Dropout(p=0.2),\n",
        "        nn.ReLU(),\n",
        "        nn.Linear(1024, 512, bias=True), \n",
        "        nn.Dropout(p=0.2),\n",
        "        nn.ReLU(),\n",
        "        nn.Linear(512, 128, bias=True), \n",
        "        nn.Dropout(p=0.2),\n",
        "        nn.ReLU(),\n",
        "        nn.Linear(128, len(labels), bias=True)\n",
        "    )\n",
        "\n",
        "  def forward(self, x):\n",
        "    return torch.sigmoid(self.layer1(x))"
      ],
      "execution_count": 237,
      "outputs": []
    },
    {
      "cell_type": "code",
      "metadata": {
        "colab": {
          "base_uri": "https://localhost:8080/"
        },
        "id": "10fwoTT8oZX-",
        "outputId": "3ae961ff-5f07-4bba-9941-10bb77b67e6f"
      },
      "source": [
        "is_cuda = check_cuda()\n",
        "model = FoodClassifier()\n",
        "if is_cuda:\n",
        "    model.cuda()\n",
        "\n",
        "criterion = nn.BCELoss()\n",
        "optimizer = optim.SGD(model.parameters(), lr = 0.01, momentum = 0.9, weight_decay = 1e-5)\n",
        "\n",
        "train_losses, val_losses = [], []\n",
        "model = train_model(model, train_dataloader, val_dataloader)"
      ],
      "execution_count": 238,
      "outputs": [
        {
          "output_type": "stream",
          "text": [
            "100%|██████████| 18/18 [00:06<00:00,  2.98it/s]\n",
            "  0%|          | 0/5 [00:00<?, ?it/s]"
          ],
          "name": "stderr"
        },
        {
          "output_type": "stream",
          "text": [
            "Epoch: 1 \tTraining Loss: 0.649218\n"
          ],
          "name": "stdout"
        },
        {
          "output_type": "stream",
          "text": [
            "100%|██████████| 5/5 [00:01<00:00,  2.90it/s]\n",
            "  0%|          | 0/18 [00:00<?, ?it/s]"
          ],
          "name": "stderr"
        },
        {
          "output_type": "stream",
          "text": [
            "\n",
            "Validation loss = 295.3255338668823\n",
            "Validation accuracy = 0.8503401360544218 %\n"
          ],
          "name": "stdout"
        },
        {
          "output_type": "stream",
          "text": [
            "100%|██████████| 18/18 [00:05<00:00,  3.01it/s]\n",
            "  0%|          | 0/5 [00:00<?, ?it/s]"
          ],
          "name": "stderr"
        },
        {
          "output_type": "stream",
          "text": [
            "Epoch: 2 \tTraining Loss: 0.246127\n"
          ],
          "name": "stdout"
        },
        {
          "output_type": "stream",
          "text": [
            "100%|██████████| 5/5 [00:01<00:00,  2.96it/s]\n",
            "  0%|          | 0/18 [00:00<?, ?it/s]"
          ],
          "name": "stderr"
        },
        {
          "output_type": "stream",
          "text": [
            "\n",
            "Validation loss = 70.66783928871155\n",
            "Validation accuracy = 1.7006802721088436 %\n"
          ],
          "name": "stdout"
        },
        {
          "output_type": "stream",
          "text": [
            "100%|██████████| 18/18 [00:05<00:00,  3.00it/s]\n",
            "  0%|          | 0/5 [00:00<?, ?it/s]"
          ],
          "name": "stderr"
        },
        {
          "output_type": "stream",
          "text": [
            "Epoch: 3 \tTraining Loss: 0.132977\n"
          ],
          "name": "stdout"
        },
        {
          "output_type": "stream",
          "text": [
            "100%|██████████| 5/5 [00:01<00:00,  2.90it/s]\n",
            "  0%|          | 0/18 [00:00<?, ?it/s]"
          ],
          "name": "stderr"
        },
        {
          "output_type": "stream",
          "text": [
            "\n",
            "Validation loss = 52.25037285685539\n",
            "Validation accuracy = 5.272108843537415 %\n"
          ],
          "name": "stdout"
        },
        {
          "output_type": "stream",
          "text": [
            "100%|██████████| 18/18 [00:06<00:00,  2.96it/s]\n",
            "  0%|          | 0/5 [00:00<?, ?it/s]"
          ],
          "name": "stderr"
        },
        {
          "output_type": "stream",
          "text": [
            "Epoch: 4 \tTraining Loss: 0.100875\n"
          ],
          "name": "stdout"
        },
        {
          "output_type": "stream",
          "text": [
            "100%|██████████| 5/5 [00:01<00:00,  2.94it/s]\n",
            "  0%|          | 0/18 [00:00<?, ?it/s]"
          ],
          "name": "stderr"
        },
        {
          "output_type": "stream",
          "text": [
            "\n",
            "Validation loss = 50.41788274049759\n",
            "Validation accuracy = 6.122448979591836 %\n"
          ],
          "name": "stdout"
        },
        {
          "output_type": "stream",
          "text": [
            "100%|██████████| 18/18 [00:06<00:00,  2.99it/s]\n",
            "  0%|          | 0/5 [00:00<?, ?it/s]"
          ],
          "name": "stderr"
        },
        {
          "output_type": "stream",
          "text": [
            "Epoch: 5 \tTraining Loss: 0.097483\n"
          ],
          "name": "stdout"
        },
        {
          "output_type": "stream",
          "text": [
            "100%|██████████| 5/5 [00:01<00:00,  2.88it/s]\n",
            "  0%|          | 0/18 [00:00<?, ?it/s]"
          ],
          "name": "stderr"
        },
        {
          "output_type": "stream",
          "text": [
            "\n",
            "Validation loss = 50.432712227106094\n",
            "Validation accuracy = 8.843537414965986 %\n"
          ],
          "name": "stdout"
        },
        {
          "output_type": "stream",
          "text": [
            "100%|██████████| 18/18 [00:05<00:00,  3.01it/s]\n",
            "  0%|          | 0/5 [00:00<?, ?it/s]"
          ],
          "name": "stderr"
        },
        {
          "output_type": "stream",
          "text": [
            "Epoch: 6 \tTraining Loss: 0.096762\n"
          ],
          "name": "stdout"
        },
        {
          "output_type": "stream",
          "text": [
            "100%|██████████| 5/5 [00:01<00:00,  2.87it/s]\n",
            "  0%|          | 0/18 [00:00<?, ?it/s]"
          ],
          "name": "stderr"
        },
        {
          "output_type": "stream",
          "text": [
            "\n",
            "Validation loss = 50.03828951716423\n",
            "Validation accuracy = 6.122448979591836 %\n"
          ],
          "name": "stdout"
        },
        {
          "output_type": "stream",
          "text": [
            "100%|██████████| 18/18 [00:06<00:00,  2.95it/s]\n",
            "  0%|          | 0/5 [00:00<?, ?it/s]"
          ],
          "name": "stderr"
        },
        {
          "output_type": "stream",
          "text": [
            "Epoch: 7 \tTraining Loss: 0.095416\n"
          ],
          "name": "stdout"
        },
        {
          "output_type": "stream",
          "text": [
            "100%|██████████| 5/5 [00:01<00:00,  2.98it/s]\n",
            "  0%|          | 0/18 [00:00<?, ?it/s]"
          ],
          "name": "stderr"
        },
        {
          "output_type": "stream",
          "text": [
            "\n",
            "Validation loss = 49.99718490242958\n",
            "Validation accuracy = 6.122448979591836 %\n"
          ],
          "name": "stdout"
        },
        {
          "output_type": "stream",
          "text": [
            "100%|██████████| 18/18 [00:06<00:00,  2.99it/s]\n",
            "  0%|          | 0/5 [00:00<?, ?it/s]"
          ],
          "name": "stderr"
        },
        {
          "output_type": "stream",
          "text": [
            "Epoch: 8 \tTraining Loss: 0.094315\n"
          ],
          "name": "stdout"
        },
        {
          "output_type": "stream",
          "text": [
            "100%|██████████| 5/5 [00:01<00:00,  2.92it/s]\n",
            "  0%|          | 0/18 [00:00<?, ?it/s]"
          ],
          "name": "stderr"
        },
        {
          "output_type": "stream",
          "text": [
            "\n",
            "Validation loss = 49.92035558819771\n",
            "Validation accuracy = 6.122448979591836 %\n"
          ],
          "name": "stdout"
        },
        {
          "output_type": "stream",
          "text": [
            "100%|██████████| 18/18 [00:05<00:00,  3.01it/s]\n",
            "  0%|          | 0/5 [00:00<?, ?it/s]"
          ],
          "name": "stderr"
        },
        {
          "output_type": "stream",
          "text": [
            "Epoch: 9 \tTraining Loss: 0.093877\n"
          ],
          "name": "stdout"
        },
        {
          "output_type": "stream",
          "text": [
            "100%|██████████| 5/5 [00:01<00:00,  2.91it/s]\n",
            "  0%|          | 0/18 [00:00<?, ?it/s]"
          ],
          "name": "stderr"
        },
        {
          "output_type": "stream",
          "text": [
            "\n",
            "Validation loss = 49.90624052286148\n",
            "Validation accuracy = 8.503401360544217 %\n"
          ],
          "name": "stdout"
        },
        {
          "output_type": "stream",
          "text": [
            "100%|██████████| 18/18 [00:05<00:00,  3.02it/s]\n",
            "  0%|          | 0/5 [00:00<?, ?it/s]"
          ],
          "name": "stderr"
        },
        {
          "output_type": "stream",
          "text": [
            "Epoch: 10 \tTraining Loss: 0.093133\n"
          ],
          "name": "stdout"
        },
        {
          "output_type": "stream",
          "text": [
            "100%|██████████| 5/5 [00:01<00:00,  2.95it/s]"
          ],
          "name": "stderr"
        },
        {
          "output_type": "stream",
          "text": [
            "\n",
            "Validation loss = 49.86475297808647\n",
            "Validation accuracy = 8.843537414965986 %\n"
          ],
          "name": "stdout"
        },
        {
          "output_type": "stream",
          "text": [
            "\n"
          ],
          "name": "stderr"
        }
      ]
    },
    {
      "cell_type": "code",
      "metadata": {
        "id": "9ufYVv5bFgLD"
      },
      "source": [
        "plotTrain = plotTrain[1:]\n",
        "plotVal = plotVal[1:]\n",
        "plotTrain.append(train_losses)\n",
        "plotVal.append(val_losses)"
      ],
      "execution_count": 240,
      "outputs": []
    },
    {
      "cell_type": "code",
      "metadata": {
        "colab": {
          "base_uri": "https://localhost:8080/",
          "height": 592
        },
        "id": "17dIpdk_F1wq",
        "outputId": "6ec4a90e-e4d9-405f-9db1-fa5be05b31f7"
      },
      "source": [
        "plotGraph(10, plotTrain, plotVal, ['Without Dropout', 'With Dropout'])"
      ],
      "execution_count": 241,
      "outputs": [
        {
          "output_type": "display_data",
          "data": {
            "image/png": "[encoded data removed]",
            "text/plain": [
              "<Figure size 720x720 with 1 Axes>"
            ]
          },
          "metadata": {
            "tags": [],
            "needs_background": "light"
          }
        }
      ]
    },
    {
      "cell_type": "markdown",
      "metadata": {
        "id": "p3nGKFyPoxIV"
      },
      "source": [
        "I used the 4 layered model to compare.\n",
        "\n",
        "Model without dropout -> Accuracy: 6.12%\n",
        "\n",
        "Model with dropout -> Accuracy: 8.84%"
      ]
    },
    {
      "cell_type": "markdown",
      "metadata": {
        "id": "vQ8zm7Gmo-cD"
      },
      "source": [
        "### **4) Different activation functions at the end**"
      ]
    },
    {
      "cell_type": "code",
      "metadata": {
        "id": "qjyAA3JVobLB"
      },
      "source": [
        "class FoodClassifier(nn.Module):\n",
        "  def __init__(self):\n",
        "    super(FoodClassifier, self).__init__()\n",
        "    self.layer1 = nn.Sequential(\n",
        "        nn.Linear(256*256, 1024, bias=True), \n",
        "        nn.LeakyReLU(),\n",
        "        nn.Linear(1024, 512, bias=True), \n",
        "        nn.LeakyReLU(),\n",
        "        nn.Linear(512, 128, bias=True), \n",
        "        nn.LeakyReLU(),\n",
        "        nn.Linear(128, len(labels), bias=True)\n",
        "    )\n",
        "\n",
        "  def forward(self, x):\n",
        "    return torch.sigmoid(self.layer1(x))"
      ],
      "execution_count": 243,
      "outputs": []
    },
    {
      "cell_type": "code",
      "metadata": {
        "colab": {
          "base_uri": "https://localhost:8080/"
        },
        "id": "u6hP6n9Rpd_D",
        "outputId": "ac131b34-56d1-489d-cb93-10d5c9e4b0ff"
      },
      "source": [
        "is_cuda = check_cuda()\n",
        "model = FoodClassifier()\n",
        "if is_cuda:\n",
        "    model.cuda()\n",
        "\n",
        "criterion = nn.BCELoss()\n",
        "optimizer = optim.SGD(model.parameters(), lr = 0.01, momentum = 0.9, weight_decay = 1e-5)\n",
        "\n",
        "train_losses, val_losses = [], []\n",
        "model = train_model(model, train_dataloader, val_dataloader)"
      ],
      "execution_count": 244,
      "outputs": [
        {
          "output_type": "stream",
          "text": [
            "100%|██████████| 18/18 [00:05<00:00,  3.02it/s]\n",
            "  0%|          | 0/5 [00:00<?, ?it/s]"
          ],
          "name": "stderr"
        },
        {
          "output_type": "stream",
          "text": [
            "Epoch: 1 \tTraining Loss: 0.660827\n"
          ],
          "name": "stdout"
        },
        {
          "output_type": "stream",
          "text": [
            "100%|██████████| 5/5 [00:01<00:00,  2.99it/s]\n",
            "  0%|          | 0/18 [00:00<?, ?it/s]"
          ],
          "name": "stderr"
        },
        {
          "output_type": "stream",
          "text": [
            "\n",
            "Validation loss = 334.0959782600403\n",
            "Validation accuracy = 1.3605442176870748 %\n"
          ],
          "name": "stdout"
        },
        {
          "output_type": "stream",
          "text": [
            "100%|██████████| 18/18 [00:05<00:00,  3.03it/s]\n",
            "  0%|          | 0/5 [00:00<?, ?it/s]"
          ],
          "name": "stderr"
        },
        {
          "output_type": "stream",
          "text": [
            "Epoch: 2 \tTraining Loss: 0.292428\n"
          ],
          "name": "stdout"
        },
        {
          "output_type": "stream",
          "text": [
            "100%|██████████| 5/5 [00:01<00:00,  2.90it/s]\n",
            "  0%|          | 0/18 [00:00<?, ?it/s]"
          ],
          "name": "stderr"
        },
        {
          "output_type": "stream",
          "text": [
            "\n",
            "Validation loss = 62.65189254283905\n",
            "Validation accuracy = 2.5510204081632653 %\n"
          ],
          "name": "stdout"
        },
        {
          "output_type": "stream",
          "text": [
            "100%|██████████| 18/18 [00:05<00:00,  3.01it/s]\n",
            "  0%|          | 0/5 [00:00<?, ?it/s]"
          ],
          "name": "stderr"
        },
        {
          "output_type": "stream",
          "text": [
            "Epoch: 3 \tTraining Loss: 0.124772\n"
          ],
          "name": "stdout"
        },
        {
          "output_type": "stream",
          "text": [
            "100%|██████████| 5/5 [00:01<00:00,  2.94it/s]\n",
            "  0%|          | 0/18 [00:00<?, ?it/s]"
          ],
          "name": "stderr"
        },
        {
          "output_type": "stream",
          "text": [
            "\n",
            "Validation loss = 54.22434061765671\n",
            "Validation accuracy = 6.122448979591836 %\n"
          ],
          "name": "stdout"
        },
        {
          "output_type": "stream",
          "text": [
            "100%|██████████| 18/18 [00:05<00:00,  3.01it/s]\n",
            "  0%|          | 0/5 [00:00<?, ?it/s]"
          ],
          "name": "stderr"
        },
        {
          "output_type": "stream",
          "text": [
            "Epoch: 4 \tTraining Loss: 0.093036\n"
          ],
          "name": "stdout"
        },
        {
          "output_type": "stream",
          "text": [
            "100%|██████████| 5/5 [00:01<00:00,  2.89it/s]\n",
            "  0%|          | 0/18 [00:00<?, ?it/s]"
          ],
          "name": "stderr"
        },
        {
          "output_type": "stream",
          "text": [
            "\n",
            "Validation loss = 51.40136617422104\n",
            "Validation accuracy = 3.231292517006803 %\n"
          ],
          "name": "stdout"
        },
        {
          "output_type": "stream",
          "text": [
            "100%|██████████| 18/18 [00:05<00:00,  3.07it/s]\n",
            "  0%|          | 0/5 [00:00<?, ?it/s]"
          ],
          "name": "stderr"
        },
        {
          "output_type": "stream",
          "text": [
            "Epoch: 5 \tTraining Loss: 0.090870\n"
          ],
          "name": "stdout"
        },
        {
          "output_type": "stream",
          "text": [
            "100%|██████████| 5/5 [00:01<00:00,  2.91it/s]\n",
            "  0%|          | 0/18 [00:00<?, ?it/s]"
          ],
          "name": "stderr"
        },
        {
          "output_type": "stream",
          "text": [
            "\n",
            "Validation loss = 50.31442278623581\n",
            "Validation accuracy = 6.122448979591836 %\n"
          ],
          "name": "stdout"
        },
        {
          "output_type": "stream",
          "text": [
            "100%|██████████| 18/18 [00:06<00:00,  2.99it/s]\n",
            "  0%|          | 0/5 [00:00<?, ?it/s]"
          ],
          "name": "stderr"
        },
        {
          "output_type": "stream",
          "text": [
            "Epoch: 6 \tTraining Loss: 0.090088\n"
          ],
          "name": "stdout"
        },
        {
          "output_type": "stream",
          "text": [
            "100%|██████████| 5/5 [00:01<00:00,  2.98it/s]\n",
            "  0%|          | 0/18 [00:00<?, ?it/s]"
          ],
          "name": "stderr"
        },
        {
          "output_type": "stream",
          "text": [
            "\n",
            "Validation loss = 50.14449945092201\n",
            "Validation accuracy = 6.122448979591836 %\n"
          ],
          "name": "stdout"
        },
        {
          "output_type": "stream",
          "text": [
            "100%|██████████| 18/18 [00:05<00:00,  3.05it/s]\n",
            "  0%|          | 0/5 [00:00<?, ?it/s]"
          ],
          "name": "stderr"
        },
        {
          "output_type": "stream",
          "text": [
            "Epoch: 7 \tTraining Loss: 0.089236\n"
          ],
          "name": "stdout"
        },
        {
          "output_type": "stream",
          "text": [
            "100%|██████████| 5/5 [00:01<00:00,  2.94it/s]\n",
            "  0%|          | 0/18 [00:00<?, ?it/s]"
          ],
          "name": "stderr"
        },
        {
          "output_type": "stream",
          "text": [
            "\n",
            "Validation loss = 50.03304806351662\n",
            "Validation accuracy = 6.122448979591836 %\n"
          ],
          "name": "stdout"
        },
        {
          "output_type": "stream",
          "text": [
            "100%|██████████| 18/18 [00:05<00:00,  3.02it/s]\n",
            "  0%|          | 0/5 [00:00<?, ?it/s]"
          ],
          "name": "stderr"
        },
        {
          "output_type": "stream",
          "text": [
            "Epoch: 8 \tTraining Loss: 0.089092\n"
          ],
          "name": "stdout"
        },
        {
          "output_type": "stream",
          "text": [
            "100%|██████████| 5/5 [00:01<00:00,  2.97it/s]\n",
            "  0%|          | 0/18 [00:00<?, ?it/s]"
          ],
          "name": "stderr"
        },
        {
          "output_type": "stream",
          "text": [
            "\n",
            "Validation loss = 49.98606899380684\n",
            "Validation accuracy = 6.122448979591836 %\n"
          ],
          "name": "stdout"
        },
        {
          "output_type": "stream",
          "text": [
            "100%|██████████| 18/18 [00:05<00:00,  3.03it/s]\n",
            "  0%|          | 0/5 [00:00<?, ?it/s]"
          ],
          "name": "stderr"
        },
        {
          "output_type": "stream",
          "text": [
            "Epoch: 9 \tTraining Loss: 0.088883\n"
          ],
          "name": "stdout"
        },
        {
          "output_type": "stream",
          "text": [
            "100%|██████████| 5/5 [00:01<00:00,  2.93it/s]\n",
            "  0%|          | 0/18 [00:00<?, ?it/s]"
          ],
          "name": "stderr"
        },
        {
          "output_type": "stream",
          "text": [
            "\n",
            "Validation loss = 49.95114850997925\n",
            "Validation accuracy = 6.122448979591836 %\n"
          ],
          "name": "stdout"
        },
        {
          "output_type": "stream",
          "text": [
            "100%|██████████| 18/18 [00:05<00:00,  3.05it/s]\n",
            "  0%|          | 0/5 [00:00<?, ?it/s]"
          ],
          "name": "stderr"
        },
        {
          "output_type": "stream",
          "text": [
            "Epoch: 10 \tTraining Loss: 0.088736\n"
          ],
          "name": "stdout"
        },
        {
          "output_type": "stream",
          "text": [
            "100%|██████████| 5/5 [00:01<00:00,  2.93it/s]"
          ],
          "name": "stderr"
        },
        {
          "output_type": "stream",
          "text": [
            "\n",
            "Validation loss = 49.92622631788254\n",
            "Validation accuracy = 6.122448979591836 %\n"
          ],
          "name": "stdout"
        },
        {
          "output_type": "stream",
          "text": [
            "\n"
          ],
          "name": "stderr"
        }
      ]
    },
    {
      "cell_type": "code",
      "metadata": {
        "id": "t_Y1QMjlpeRU"
      },
      "source": [
        "plotTrain = plotTrain[:-1]\n",
        "plotVal = plotVal[:-1]\n",
        "plotTrain.append(train_losses)\n",
        "plotVal.append(val_losses)"
      ],
      "execution_count": 245,
      "outputs": []
    },
    {
      "cell_type": "code",
      "metadata": {
        "id": "nIWzBq-LpgDf"
      },
      "source": [
        "class FoodClassifier(nn.Module):\n",
        "  def __init__(self):\n",
        "    super(FoodClassifier, self).__init__()\n",
        "    self.layer1 = nn.Sequential(\n",
        "        nn.Linear(256*256, 1024, bias=True), \n",
        "        nn.Tanh(),\n",
        "        nn.Linear(1024, 512, bias=True), \n",
        "        nn.Tanh(),\n",
        "        nn.Linear(512, 128, bias=True), \n",
        "        nn.Tanh(),\n",
        "        nn.Linear(128, len(labels), bias=True)\n",
        "    )\n",
        "\n",
        "  def forward(self, x):\n",
        "    return torch.sigmoid(self.layer1(x))"
      ],
      "execution_count": 246,
      "outputs": []
    },
    {
      "cell_type": "code",
      "metadata": {
        "colab": {
          "base_uri": "https://localhost:8080/"
        },
        "id": "RV01aHBmpjM3",
        "outputId": "fe687524-0c3e-46fd-8340-64aa75e41def"
      },
      "source": [
        "is_cuda = check_cuda()\n",
        "model = FoodClassifier()\n",
        "if is_cuda:\n",
        "    model.cuda()\n",
        "\n",
        "criterion = nn.BCELoss()\n",
        "optimizer = optim.SGD(model.parameters(), lr = 0.01, momentum = 0.9, weight_decay = 1e-5)\n",
        "\n",
        "train_losses, val_losses = [], []\n",
        "model = train_model(model, train_dataloader, val_dataloader)"
      ],
      "execution_count": 247,
      "outputs": [
        {
          "output_type": "stream",
          "text": [
            "100%|██████████| 18/18 [00:05<00:00,  3.02it/s]\n",
            "  0%|          | 0/5 [00:00<?, ?it/s]"
          ],
          "name": "stderr"
        },
        {
          "output_type": "stream",
          "text": [
            "Epoch: 1 \tTraining Loss: 0.544332\n"
          ],
          "name": "stdout"
        },
        {
          "output_type": "stream",
          "text": [
            "100%|██████████| 5/5 [00:01<00:00,  2.92it/s]\n",
            "  0%|          | 0/18 [00:00<?, ?it/s]"
          ],
          "name": "stderr"
        },
        {
          "output_type": "stream",
          "text": [
            "\n",
            "Validation loss = 256.9303117990494\n",
            "Validation accuracy = 0.3401360544217687 %\n"
          ],
          "name": "stdout"
        },
        {
          "output_type": "stream",
          "text": [
            "100%|██████████| 18/18 [00:05<00:00,  3.03it/s]\n",
            "  0%|          | 0/5 [00:00<?, ?it/s]"
          ],
          "name": "stderr"
        },
        {
          "output_type": "stream",
          "text": [
            "Epoch: 2 \tTraining Loss: 0.357586\n"
          ],
          "name": "stdout"
        },
        {
          "output_type": "stream",
          "text": [
            "100%|██████████| 5/5 [00:01<00:00,  2.89it/s]\n",
            "  0%|          | 0/18 [00:00<?, ?it/s]"
          ],
          "name": "stderr"
        },
        {
          "output_type": "stream",
          "text": [
            "\n",
            "Validation loss = 159.53009700775146\n",
            "Validation accuracy = 1.870748299319728 %\n"
          ],
          "name": "stdout"
        },
        {
          "output_type": "stream",
          "text": [
            "100%|██████████| 18/18 [00:06<00:00,  2.99it/s]\n",
            "  0%|          | 0/5 [00:00<?, ?it/s]"
          ],
          "name": "stderr"
        },
        {
          "output_type": "stream",
          "text": [
            "Epoch: 3 \tTraining Loss: 0.223207\n"
          ],
          "name": "stdout"
        },
        {
          "output_type": "stream",
          "text": [
            "100%|██████████| 5/5 [00:01<00:00,  2.86it/s]\n",
            "  0%|          | 0/18 [00:00<?, ?it/s]"
          ],
          "name": "stderr"
        },
        {
          "output_type": "stream",
          "text": [
            "\n",
            "Validation loss = 104.87046736478806\n",
            "Validation accuracy = 4.081632653061225 %\n"
          ],
          "name": "stdout"
        },
        {
          "output_type": "stream",
          "text": [
            "100%|██████████| 18/18 [00:05<00:00,  3.07it/s]\n",
            "  0%|          | 0/5 [00:00<?, ?it/s]"
          ],
          "name": "stderr"
        },
        {
          "output_type": "stream",
          "text": [
            "Epoch: 4 \tTraining Loss: 0.156919\n"
          ],
          "name": "stdout"
        },
        {
          "output_type": "stream",
          "text": [
            "100%|██████████| 5/5 [00:01<00:00,  2.93it/s]\n",
            "  0%|          | 0/18 [00:00<?, ?it/s]"
          ],
          "name": "stderr"
        },
        {
          "output_type": "stream",
          "text": [
            "\n",
            "Validation loss = 80.43067002296448\n",
            "Validation accuracy = 8.843537414965986 %\n"
          ],
          "name": "stdout"
        },
        {
          "output_type": "stream",
          "text": [
            "100%|██████████| 18/18 [00:06<00:00,  2.99it/s]\n",
            "  0%|          | 0/5 [00:00<?, ?it/s]"
          ],
          "name": "stderr"
        },
        {
          "output_type": "stream",
          "text": [
            "Epoch: 5 \tTraining Loss: 0.126757\n"
          ],
          "name": "stdout"
        },
        {
          "output_type": "stream",
          "text": [
            "100%|██████████| 5/5 [00:01<00:00,  2.98it/s]\n",
            "  0%|          | 0/18 [00:00<?, ?it/s]"
          ],
          "name": "stderr"
        },
        {
          "output_type": "stream",
          "text": [
            "\n",
            "Validation loss = 68.62255263328552\n",
            "Validation accuracy = 8.843537414965986 %\n"
          ],
          "name": "stdout"
        },
        {
          "output_type": "stream",
          "text": [
            "100%|██████████| 18/18 [00:05<00:00,  3.07it/s]\n",
            "  0%|          | 0/5 [00:00<?, ?it/s]"
          ],
          "name": "stderr"
        },
        {
          "output_type": "stream",
          "text": [
            "Epoch: 6 \tTraining Loss: 0.111345\n"
          ],
          "name": "stdout"
        },
        {
          "output_type": "stream",
          "text": [
            "100%|██████████| 5/5 [00:01<00:00,  2.96it/s]\n",
            "  0%|          | 0/18 [00:00<?, ?it/s]"
          ],
          "name": "stderr"
        },
        {
          "output_type": "stream",
          "text": [
            "\n",
            "Validation loss = 62.08097431063652\n",
            "Validation accuracy = 8.843537414965986 %\n"
          ],
          "name": "stdout"
        },
        {
          "output_type": "stream",
          "text": [
            "100%|██████████| 18/18 [00:05<00:00,  3.05it/s]\n",
            "  0%|          | 0/5 [00:00<?, ?it/s]"
          ],
          "name": "stderr"
        },
        {
          "output_type": "stream",
          "text": [
            "Epoch: 7 \tTraining Loss: 0.102370\n"
          ],
          "name": "stdout"
        },
        {
          "output_type": "stream",
          "text": [
            "100%|██████████| 5/5 [00:01<00:00,  2.96it/s]\n",
            "  0%|          | 0/18 [00:00<?, ?it/s]"
          ],
          "name": "stderr"
        },
        {
          "output_type": "stream",
          "text": [
            "\n",
            "Validation loss = 58.03243452310562\n",
            "Validation accuracy = 8.843537414965986 %\n"
          ],
          "name": "stdout"
        },
        {
          "output_type": "stream",
          "text": [
            "100%|██████████| 18/18 [00:05<00:00,  3.07it/s]\n",
            "  0%|          | 0/5 [00:00<?, ?it/s]"
          ],
          "name": "stderr"
        },
        {
          "output_type": "stream",
          "text": [
            "Epoch: 8 \tTraining Loss: 0.096608\n"
          ],
          "name": "stdout"
        },
        {
          "output_type": "stream",
          "text": [
            "100%|██████████| 5/5 [00:01<00:00,  2.88it/s]\n",
            "  0%|          | 0/18 [00:00<?, ?it/s]"
          ],
          "name": "stderr"
        },
        {
          "output_type": "stream",
          "text": [
            "\n",
            "Validation loss = 55.32351553440094\n",
            "Validation accuracy = 8.843537414965986 %\n"
          ],
          "name": "stdout"
        },
        {
          "output_type": "stream",
          "text": [
            "100%|██████████| 18/18 [00:05<00:00,  3.02it/s]\n",
            "  0%|          | 0/5 [00:00<?, ?it/s]"
          ],
          "name": "stderr"
        },
        {
          "output_type": "stream",
          "text": [
            "Epoch: 9 \tTraining Loss: 0.092649\n"
          ],
          "name": "stdout"
        },
        {
          "output_type": "stream",
          "text": [
            "100%|██████████| 5/5 [00:01<00:00,  2.94it/s]\n",
            "  0%|          | 0/18 [00:00<?, ?it/s]"
          ],
          "name": "stderr"
        },
        {
          "output_type": "stream",
          "text": [
            "\n",
            "Validation loss = 53.40842670202255\n",
            "Validation accuracy = 8.843537414965986 %\n"
          ],
          "name": "stdout"
        },
        {
          "output_type": "stream",
          "text": [
            "100%|██████████| 18/18 [00:05<00:00,  3.04it/s]\n",
            "  0%|          | 0/5 [00:00<?, ?it/s]"
          ],
          "name": "stderr"
        },
        {
          "output_type": "stream",
          "text": [
            "Epoch: 10 \tTraining Loss: 0.089793\n"
          ],
          "name": "stdout"
        },
        {
          "output_type": "stream",
          "text": [
            "100%|██████████| 5/5 [00:01<00:00,  2.86it/s]"
          ],
          "name": "stderr"
        },
        {
          "output_type": "stream",
          "text": [
            "\n",
            "Validation loss = 51.99867391586304\n",
            "Validation accuracy = 8.843537414965986 %\n"
          ],
          "name": "stdout"
        },
        {
          "output_type": "stream",
          "text": [
            "\n"
          ],
          "name": "stderr"
        }
      ]
    },
    {
      "cell_type": "code",
      "metadata": {
        "id": "S8Nwu0RVpjXG"
      },
      "source": [
        "plotTrain.append(train_losses)\n",
        "plotVal.append(val_losses)"
      ],
      "execution_count": 248,
      "outputs": []
    },
    {
      "cell_type": "code",
      "metadata": {
        "colab": {
          "base_uri": "https://localhost:8080/",
          "height": 594
        },
        "id": "W9y54rtXGqcc",
        "outputId": "8ba0191e-051a-4c33-e581-4f70977e3c65"
      },
      "source": [
        "plotGraph(10, plotTrain, plotVal, ['Relu', 'Leaky Relu', 'Tanh'])"
      ],
      "execution_count": 249,
      "outputs": [
        {
          "output_type": "display_data",
          "data": {
            "image/png": "[encoded data removed]",
            "text/plain": [
              "<Figure size 720x720 with 1 Axes>"
            ]
          },
          "metadata": {
            "tags": [],
            "needs_background": "light"
          }
        }
      ]
    },
    {
      "cell_type": "markdown",
      "metadata": {
        "id": "sF0uFIlnsDWO"
      },
      "source": [
        "Accuracies on validation set with different activations:\n",
        "\n",
        "ReLu: 6.12\n",
        "\n",
        "Leaky ReLu: 6.12\n",
        "\n",
        "Tanh: 8.84"
      ]
    },
    {
      "cell_type": "markdown",
      "metadata": {
        "id": "DwMYROPjslH4"
      },
      "source": [
        "### **5) Different pooling strategies**"
      ]
    },
    {
      "cell_type": "code",
      "metadata": {
        "id": "GNUH1DqCHF6Q"
      },
      "source": [
        "plotTrain = []\n",
        "plotVal = []"
      ],
      "execution_count": 250,
      "outputs": []
    },
    {
      "cell_type": "code",
      "metadata": {
        "id": "UCVynZcysZJd"
      },
      "source": [
        "class FoodClassifier(nn.Module):\n",
        "  def __init__(self):\n",
        "    super(FoodClassifier, self).__init__()\n",
        "    self.layer1 = nn.Sequential(\n",
        "        nn.MaxPool1d(3, stride=2),\n",
        "        nn.Linear(32767, 1024, bias=True),\n",
        "        nn.ReLU(),\n",
        "        nn.Linear(1024, len(labels), bias=True)\n",
        "    )\n",
        "\n",
        "  def forward(self, x):\n",
        "    x = x.unsqueeze(0)\n",
        "    return torch.sigmoid(self.layer1(x)).squeeze()"
      ],
      "execution_count": 251,
      "outputs": []
    },
    {
      "cell_type": "code",
      "metadata": {
        "colab": {
          "base_uri": "https://localhost:8080/"
        },
        "id": "nz-wKdITuhFo",
        "outputId": "a354d254-5369-424f-ada0-1b51141165d3"
      },
      "source": [
        "is_cuda = check_cuda()\n",
        "model = FoodClassifier()\n",
        "if is_cuda:\n",
        "    model.cuda()\n",
        "\n",
        "criterion = nn.BCELoss()\n",
        "optimizer = optim.SGD(model.parameters(), lr = 0.01, momentum = 0.9, weight_decay = 1e-5)\n",
        "\n",
        "train_losses, val_losses = [], []\n",
        "model = train_model(model, train_dataloader, val_dataloader)"
      ],
      "execution_count": 252,
      "outputs": [
        {
          "output_type": "stream",
          "text": [
            "100%|██████████| 18/18 [00:05<00:00,  3.06it/s]\n",
            "  0%|          | 0/5 [00:00<?, ?it/s]"
          ],
          "name": "stderr"
        },
        {
          "output_type": "stream",
          "text": [
            "Epoch: 1 \tTraining Loss: 0.269428\n"
          ],
          "name": "stdout"
        },
        {
          "output_type": "stream",
          "text": [
            "100%|██████████| 5/5 [00:01<00:00,  2.98it/s]\n",
            "  0%|          | 0/18 [00:00<?, ?it/s]"
          ],
          "name": "stderr"
        },
        {
          "output_type": "stream",
          "text": [
            "\n",
            "Validation loss = 66.30125126242638\n",
            "Validation accuracy = 4.081632653061225 %\n"
          ],
          "name": "stdout"
        },
        {
          "output_type": "stream",
          "text": [
            "100%|██████████| 18/18 [00:05<00:00,  3.08it/s]\n",
            "  0%|          | 0/5 [00:00<?, ?it/s]"
          ],
          "name": "stderr"
        },
        {
          "output_type": "stream",
          "text": [
            "Epoch: 2 \tTraining Loss: 0.133731\n"
          ],
          "name": "stdout"
        },
        {
          "output_type": "stream",
          "text": [
            "100%|██████████| 5/5 [00:01<00:00,  2.94it/s]\n",
            "  0%|          | 0/18 [00:00<?, ?it/s]"
          ],
          "name": "stderr"
        },
        {
          "output_type": "stream",
          "text": [
            "\n",
            "Validation loss = 61.892758041620255\n",
            "Validation accuracy = 3.9115646258503403 %\n"
          ],
          "name": "stdout"
        },
        {
          "output_type": "stream",
          "text": [
            "100%|██████████| 18/18 [00:05<00:00,  3.11it/s]\n",
            "  0%|          | 0/5 [00:00<?, ?it/s]"
          ],
          "name": "stderr"
        },
        {
          "output_type": "stream",
          "text": [
            "Epoch: 3 \tTraining Loss: 0.114327\n"
          ],
          "name": "stdout"
        },
        {
          "output_type": "stream",
          "text": [
            "100%|██████████| 5/5 [00:01<00:00,  2.91it/s]\n",
            "  0%|          | 0/18 [00:00<?, ?it/s]"
          ],
          "name": "stderr"
        },
        {
          "output_type": "stream",
          "text": [
            "\n",
            "Validation loss = 55.8892283141613\n",
            "Validation accuracy = 4.081632653061225 %\n"
          ],
          "name": "stdout"
        },
        {
          "output_type": "stream",
          "text": [
            "100%|██████████| 18/18 [00:05<00:00,  3.07it/s]\n",
            "  0%|          | 0/5 [00:00<?, ?it/s]"
          ],
          "name": "stderr"
        },
        {
          "output_type": "stream",
          "text": [
            "Epoch: 4 \tTraining Loss: 0.106279\n"
          ],
          "name": "stdout"
        },
        {
          "output_type": "stream",
          "text": [
            "100%|██████████| 5/5 [00:01<00:00,  2.89it/s]\n",
            "  0%|          | 0/18 [00:00<?, ?it/s]"
          ],
          "name": "stderr"
        },
        {
          "output_type": "stream",
          "text": [
            "\n",
            "Validation loss = 52.07243573665619\n",
            "Validation accuracy = 4.081632653061225 %\n"
          ],
          "name": "stdout"
        },
        {
          "output_type": "stream",
          "text": [
            "100%|██████████| 18/18 [00:05<00:00,  3.08it/s]\n",
            "  0%|          | 0/5 [00:00<?, ?it/s]"
          ],
          "name": "stderr"
        },
        {
          "output_type": "stream",
          "text": [
            "Epoch: 5 \tTraining Loss: 0.100477\n"
          ],
          "name": "stdout"
        },
        {
          "output_type": "stream",
          "text": [
            "100%|██████████| 5/5 [00:01<00:00,  2.92it/s]\n",
            "  0%|          | 0/18 [00:00<?, ?it/s]"
          ],
          "name": "stderr"
        },
        {
          "output_type": "stream",
          "text": [
            "\n",
            "Validation loss = 52.09781938791275\n",
            "Validation accuracy = 4.081632653061225 %\n"
          ],
          "name": "stdout"
        },
        {
          "output_type": "stream",
          "text": [
            "100%|██████████| 18/18 [00:05<00:00,  3.07it/s]\n",
            "  0%|          | 0/5 [00:00<?, ?it/s]"
          ],
          "name": "stderr"
        },
        {
          "output_type": "stream",
          "text": [
            "Epoch: 6 \tTraining Loss: 0.099431\n"
          ],
          "name": "stdout"
        },
        {
          "output_type": "stream",
          "text": [
            "100%|██████████| 5/5 [00:01<00:00,  2.95it/s]\n",
            "  0%|          | 0/18 [00:00<?, ?it/s]"
          ],
          "name": "stderr"
        },
        {
          "output_type": "stream",
          "text": [
            "\n",
            "Validation loss = 51.24644646048546\n",
            "Validation accuracy = 3.9115646258503403 %\n"
          ],
          "name": "stdout"
        },
        {
          "output_type": "stream",
          "text": [
            "100%|██████████| 18/18 [00:05<00:00,  3.07it/s]\n",
            "  0%|          | 0/5 [00:00<?, ?it/s]"
          ],
          "name": "stderr"
        },
        {
          "output_type": "stream",
          "text": [
            "Epoch: 7 \tTraining Loss: 0.097499\n"
          ],
          "name": "stdout"
        },
        {
          "output_type": "stream",
          "text": [
            "100%|██████████| 5/5 [00:01<00:00,  2.89it/s]\n",
            "  0%|          | 0/18 [00:00<?, ?it/s]"
          ],
          "name": "stderr"
        },
        {
          "output_type": "stream",
          "text": [
            "\n",
            "Validation loss = 51.12656047940254\n",
            "Validation accuracy = 3.9115646258503403 %\n"
          ],
          "name": "stdout"
        },
        {
          "output_type": "stream",
          "text": [
            "100%|██████████| 18/18 [00:05<00:00,  3.04it/s]\n",
            "  0%|          | 0/5 [00:00<?, ?it/s]"
          ],
          "name": "stderr"
        },
        {
          "output_type": "stream",
          "text": [
            "Epoch: 8 \tTraining Loss: 0.096658\n"
          ],
          "name": "stdout"
        },
        {
          "output_type": "stream",
          "text": [
            "100%|██████████| 5/5 [00:01<00:00,  2.91it/s]\n",
            "  0%|          | 0/18 [00:00<?, ?it/s]"
          ],
          "name": "stderr"
        },
        {
          "output_type": "stream",
          "text": [
            "\n",
            "Validation loss = 50.7566379904747\n",
            "Validation accuracy = 3.9115646258503403 %\n"
          ],
          "name": "stdout"
        },
        {
          "output_type": "stream",
          "text": [
            "100%|██████████| 18/18 [00:05<00:00,  3.04it/s]\n",
            "  0%|          | 0/5 [00:00<?, ?it/s]"
          ],
          "name": "stderr"
        },
        {
          "output_type": "stream",
          "text": [
            "Epoch: 9 \tTraining Loss: 0.095496\n"
          ],
          "name": "stdout"
        },
        {
          "output_type": "stream",
          "text": [
            "100%|██████████| 5/5 [00:01<00:00,  2.92it/s]\n",
            "  0%|          | 0/18 [00:00<?, ?it/s]"
          ],
          "name": "stderr"
        },
        {
          "output_type": "stream",
          "text": [
            "\n",
            "Validation loss = 50.58683556318283\n",
            "Validation accuracy = 3.9115646258503403 %\n"
          ],
          "name": "stdout"
        },
        {
          "output_type": "stream",
          "text": [
            "100%|██████████| 18/18 [00:05<00:00,  3.05it/s]\n",
            "  0%|          | 0/5 [00:00<?, ?it/s]"
          ],
          "name": "stderr"
        },
        {
          "output_type": "stream",
          "text": [
            "Epoch: 10 \tTraining Loss: 0.094718\n"
          ],
          "name": "stdout"
        },
        {
          "output_type": "stream",
          "text": [
            "100%|██████████| 5/5 [00:01<00:00,  3.03it/s]"
          ],
          "name": "stderr"
        },
        {
          "output_type": "stream",
          "text": [
            "\n",
            "Validation loss = 50.38793495297432\n",
            "Validation accuracy = 3.741496598639456 %\n"
          ],
          "name": "stdout"
        },
        {
          "output_type": "stream",
          "text": [
            "\n"
          ],
          "name": "stderr"
        }
      ]
    },
    {
      "cell_type": "code",
      "metadata": {
        "id": "Ly1-an9Zuhit"
      },
      "source": [
        "plotTrain.append(train_losses)\n",
        "plotVal.append(val_losses)"
      ],
      "execution_count": 253,
      "outputs": []
    },
    {
      "cell_type": "code",
      "metadata": {
        "id": "4hISyo4OzeNc"
      },
      "source": [
        "class FoodClassifier(nn.Module):\n",
        "  def __init__(self):\n",
        "    super(FoodClassifier, self).__init__()\n",
        "    self.layer1 = nn.Sequential(\n",
        "        nn.AvgPool1d(3, stride=2),\n",
        "        nn.Linear(32767, 1024, bias=True),\n",
        "        nn.ReLU(),\n",
        "        nn.Linear(1024, len(labels), bias=True)\n",
        "    )\n",
        "\n",
        "  def forward(self, x):\n",
        "    x = x.unsqueeze(0)\n",
        "    return torch.sigmoid(self.layer1(x)).squeeze()"
      ],
      "execution_count": 254,
      "outputs": []
    },
    {
      "cell_type": "code",
      "metadata": {
        "colab": {
          "base_uri": "https://localhost:8080/"
        },
        "id": "7Kk_0H5szkon",
        "outputId": "07b1bdfe-1e2b-4d35-9b46-06bd154eea86"
      },
      "source": [
        "is_cuda = check_cuda()\n",
        "model = FoodClassifier()\n",
        "if is_cuda:\n",
        "    model.cuda()\n",
        "\n",
        "criterion = nn.BCELoss()\n",
        "optimizer = optim.SGD(model.parameters(), lr = 0.01, momentum = 0.9, weight_decay = 1e-5)\n",
        "\n",
        "train_losses, val_losses = [], []\n",
        "model = train_model(model, train_dataloader, val_dataloader)"
      ],
      "execution_count": 255,
      "outputs": [
        {
          "output_type": "stream",
          "text": [
            "100%|██████████| 18/18 [00:05<00:00,  3.05it/s]\n",
            "  0%|          | 0/5 [00:00<?, ?it/s]"
          ],
          "name": "stderr"
        },
        {
          "output_type": "stream",
          "text": [
            "Epoch: 1 \tTraining Loss: 0.277696\n"
          ],
          "name": "stdout"
        },
        {
          "output_type": "stream",
          "text": [
            "100%|██████████| 5/5 [00:01<00:00,  3.01it/s]\n",
            "  0%|          | 0/18 [00:00<?, ?it/s]"
          ],
          "name": "stderr"
        },
        {
          "output_type": "stream",
          "text": [
            "\n",
            "Validation loss = 65.4512625336647\n",
            "Validation accuracy = 4.081632653061225 %\n"
          ],
          "name": "stdout"
        },
        {
          "output_type": "stream",
          "text": [
            "100%|██████████| 18/18 [00:05<00:00,  3.05it/s]\n",
            "  0%|          | 0/5 [00:00<?, ?it/s]"
          ],
          "name": "stderr"
        },
        {
          "output_type": "stream",
          "text": [
            "Epoch: 2 \tTraining Loss: 0.132821\n"
          ],
          "name": "stdout"
        },
        {
          "output_type": "stream",
          "text": [
            "100%|██████████| 5/5 [00:01<00:00,  2.92it/s]\n",
            "  0%|          | 0/18 [00:00<?, ?it/s]"
          ],
          "name": "stderr"
        },
        {
          "output_type": "stream",
          "text": [
            "\n",
            "Validation loss = 59.54282867908478\n",
            "Validation accuracy = 4.081632653061225 %\n"
          ],
          "name": "stdout"
        },
        {
          "output_type": "stream",
          "text": [
            "100%|██████████| 18/18 [00:05<00:00,  3.08it/s]\n",
            "  0%|          | 0/5 [00:00<?, ?it/s]"
          ],
          "name": "stderr"
        },
        {
          "output_type": "stream",
          "text": [
            "Epoch: 3 \tTraining Loss: 0.108712\n"
          ],
          "name": "stdout"
        },
        {
          "output_type": "stream",
          "text": [
            "100%|██████████| 5/5 [00:01<00:00,  2.93it/s]\n",
            "  0%|          | 0/18 [00:00<?, ?it/s]"
          ],
          "name": "stderr"
        },
        {
          "output_type": "stream",
          "text": [
            "\n",
            "Validation loss = 56.92515170574188\n",
            "Validation accuracy = 4.081632653061225 %\n"
          ],
          "name": "stdout"
        },
        {
          "output_type": "stream",
          "text": [
            "100%|██████████| 18/18 [00:05<00:00,  3.10it/s]\n",
            "  0%|          | 0/5 [00:00<?, ?it/s]"
          ],
          "name": "stderr"
        },
        {
          "output_type": "stream",
          "text": [
            "Epoch: 4 \tTraining Loss: 0.107272\n"
          ],
          "name": "stdout"
        },
        {
          "output_type": "stream",
          "text": [
            "100%|██████████| 5/5 [00:01<00:00,  2.93it/s]\n",
            "  0%|          | 0/18 [00:00<?, ?it/s]"
          ],
          "name": "stderr"
        },
        {
          "output_type": "stream",
          "text": [
            "\n",
            "Validation loss = 51.63068664073944\n",
            "Validation accuracy = 3.741496598639456 %\n"
          ],
          "name": "stdout"
        },
        {
          "output_type": "stream",
          "text": [
            "100%|██████████| 18/18 [00:05<00:00,  3.07it/s]\n",
            "  0%|          | 0/5 [00:00<?, ?it/s]"
          ],
          "name": "stderr"
        },
        {
          "output_type": "stream",
          "text": [
            "Epoch: 5 \tTraining Loss: 0.098644\n"
          ],
          "name": "stdout"
        },
        {
          "output_type": "stream",
          "text": [
            "100%|██████████| 5/5 [00:01<00:00,  2.95it/s]\n",
            "  0%|          | 0/18 [00:00<?, ?it/s]"
          ],
          "name": "stderr"
        },
        {
          "output_type": "stream",
          "text": [
            "\n",
            "Validation loss = 52.50720167160034\n",
            "Validation accuracy = 4.081632653061225 %\n"
          ],
          "name": "stdout"
        },
        {
          "output_type": "stream",
          "text": [
            "100%|██████████| 18/18 [00:05<00:00,  3.03it/s]\n",
            "  0%|          | 0/5 [00:00<?, ?it/s]"
          ],
          "name": "stderr"
        },
        {
          "output_type": "stream",
          "text": [
            "Epoch: 6 \tTraining Loss: 0.099757\n"
          ],
          "name": "stdout"
        },
        {
          "output_type": "stream",
          "text": [
            "100%|██████████| 5/5 [00:01<00:00,  2.96it/s]\n",
            "  0%|          | 0/18 [00:00<?, ?it/s]"
          ],
          "name": "stderr"
        },
        {
          "output_type": "stream",
          "text": [
            "\n",
            "Validation loss = 51.26710167527199\n",
            "Validation accuracy = 4.081632653061225 %\n"
          ],
          "name": "stdout"
        },
        {
          "output_type": "stream",
          "text": [
            "100%|██████████| 18/18 [00:05<00:00,  3.03it/s]\n",
            "  0%|          | 0/5 [00:00<?, ?it/s]"
          ],
          "name": "stderr"
        },
        {
          "output_type": "stream",
          "text": [
            "Epoch: 7 \tTraining Loss: 0.097043\n"
          ],
          "name": "stdout"
        },
        {
          "output_type": "stream",
          "text": [
            "100%|██████████| 5/5 [00:01<00:00,  2.85it/s]\n",
            "  0%|          | 0/18 [00:00<?, ?it/s]"
          ],
          "name": "stderr"
        },
        {
          "output_type": "stream",
          "text": [
            "\n",
            "Validation loss = 51.439694315195084\n",
            "Validation accuracy = 4.081632653061225 %\n"
          ],
          "name": "stdout"
        },
        {
          "output_type": "stream",
          "text": [
            "100%|██████████| 18/18 [00:05<00:00,  3.07it/s]\n",
            "  0%|          | 0/5 [00:00<?, ?it/s]"
          ],
          "name": "stderr"
        },
        {
          "output_type": "stream",
          "text": [
            "Epoch: 8 \tTraining Loss: 0.096912\n"
          ],
          "name": "stdout"
        },
        {
          "output_type": "stream",
          "text": [
            "100%|██████████| 5/5 [00:01<00:00,  2.94it/s]\n",
            "  0%|          | 0/18 [00:00<?, ?it/s]"
          ],
          "name": "stderr"
        },
        {
          "output_type": "stream",
          "text": [
            "\n",
            "Validation loss = 50.97830730676651\n",
            "Validation accuracy = 4.2517006802721085 %\n"
          ],
          "name": "stdout"
        },
        {
          "output_type": "stream",
          "text": [
            "100%|██████████| 18/18 [00:05<00:00,  3.03it/s]\n",
            "  0%|          | 0/5 [00:00<?, ?it/s]"
          ],
          "name": "stderr"
        },
        {
          "output_type": "stream",
          "text": [
            "Epoch: 9 \tTraining Loss: 0.095559\n"
          ],
          "name": "stdout"
        },
        {
          "output_type": "stream",
          "text": [
            "100%|██████████| 5/5 [00:01<00:00,  2.90it/s]\n",
            "  0%|          | 0/18 [00:00<?, ?it/s]"
          ],
          "name": "stderr"
        },
        {
          "output_type": "stream",
          "text": [
            "\n",
            "Validation loss = 50.9205616414547\n",
            "Validation accuracy = 4.081632653061225 %\n"
          ],
          "name": "stdout"
        },
        {
          "output_type": "stream",
          "text": [
            "100%|██████████| 18/18 [00:05<00:00,  3.05it/s]\n",
            "  0%|          | 0/5 [00:00<?, ?it/s]"
          ],
          "name": "stderr"
        },
        {
          "output_type": "stream",
          "text": [
            "Epoch: 10 \tTraining Loss: 0.095078\n"
          ],
          "name": "stdout"
        },
        {
          "output_type": "stream",
          "text": [
            "100%|██████████| 5/5 [00:01<00:00,  2.91it/s]"
          ],
          "name": "stderr"
        },
        {
          "output_type": "stream",
          "text": [
            "\n",
            "Validation loss = 50.69638013839722\n",
            "Validation accuracy = 4.081632653061225 %\n"
          ],
          "name": "stdout"
        },
        {
          "output_type": "stream",
          "text": [
            "\n"
          ],
          "name": "stderr"
        }
      ]
    },
    {
      "cell_type": "code",
      "metadata": {
        "id": "vZsXCED4zlsZ"
      },
      "source": [
        "plotTrain.append(train_losses)\n",
        "plotVal.append(val_losses)"
      ],
      "execution_count": 256,
      "outputs": []
    },
    {
      "cell_type": "code",
      "metadata": {
        "id": "jVCn1vcszpck"
      },
      "source": [
        "class FoodClassifier(nn.Module):\n",
        "  def __init__(self):\n",
        "    super(FoodClassifier, self).__init__()\n",
        "    self.layer1 = nn.Sequential(\n",
        "        nn.LPPool1d(2, 3, stride=2),\n",
        "        nn.Linear(32767, 1024, bias=True),\n",
        "        nn.ReLU(),\n",
        "        nn.Linear(1024, len(labels), bias=True)\n",
        "    )\n",
        "\n",
        "  def forward(self, x):\n",
        "    x = x.unsqueeze(0)\n",
        "    return torch.sigmoid(self.layer1(x)).squeeze()"
      ],
      "execution_count": 257,
      "outputs": []
    },
    {
      "cell_type": "code",
      "metadata": {
        "colab": {
          "base_uri": "https://localhost:8080/"
        },
        "id": "wpihyicP1Cgj",
        "outputId": "822e91ea-d39f-46a4-9bbe-947067c8af80"
      },
      "source": [
        "is_cuda = check_cuda()\n",
        "model = FoodClassifier()\n",
        "if is_cuda:\n",
        "    model.cuda()\n",
        "\n",
        "criterion = nn.BCELoss()\n",
        "optimizer = optim.SGD(model.parameters(), lr = 0.01, momentum = 0.9, weight_decay = 1e-5)\n",
        "\n",
        "train_losses, val_losses = [], []\n",
        "model = train_model(model, train_dataloader, val_dataloader)"
      ],
      "execution_count": 258,
      "outputs": [
        {
          "output_type": "stream",
          "text": [
            "100%|██████████| 18/18 [00:05<00:00,  3.03it/s]\n",
            "  0%|          | 0/5 [00:00<?, ?it/s]"
          ],
          "name": "stderr"
        },
        {
          "output_type": "stream",
          "text": [
            "Epoch: 1 \tTraining Loss: 0.217420\n"
          ],
          "name": "stdout"
        },
        {
          "output_type": "stream",
          "text": [
            "100%|██████████| 5/5 [00:01<00:00,  2.91it/s]\n",
            "  0%|          | 0/18 [00:00<?, ?it/s]"
          ],
          "name": "stderr"
        },
        {
          "output_type": "stream",
          "text": [
            "\n",
            "Validation loss = 86.64992952346802\n",
            "Validation accuracy = 4.081632653061225 %\n"
          ],
          "name": "stdout"
        },
        {
          "output_type": "stream",
          "text": [
            "100%|██████████| 18/18 [00:05<00:00,  3.07it/s]\n",
            "  0%|          | 0/5 [00:00<?, ?it/s]"
          ],
          "name": "stderr"
        },
        {
          "output_type": "stream",
          "text": [
            "Epoch: 2 \tTraining Loss: 0.163874\n"
          ],
          "name": "stdout"
        },
        {
          "output_type": "stream",
          "text": [
            "100%|██████████| 5/5 [00:01<00:00,  2.93it/s]\n",
            "  0%|          | 0/18 [00:00<?, ?it/s]"
          ],
          "name": "stderr"
        },
        {
          "output_type": "stream",
          "text": [
            "\n",
            "Validation loss = 77.54881748557091\n",
            "Validation accuracy = 3.9115646258503403 %\n"
          ],
          "name": "stdout"
        },
        {
          "output_type": "stream",
          "text": [
            "100%|██████████| 18/18 [00:05<00:00,  3.06it/s]\n",
            "  0%|          | 0/5 [00:00<?, ?it/s]"
          ],
          "name": "stderr"
        },
        {
          "output_type": "stream",
          "text": [
            "Epoch: 3 \tTraining Loss: 0.154388\n"
          ],
          "name": "stdout"
        },
        {
          "output_type": "stream",
          "text": [
            "100%|██████████| 5/5 [00:01<00:00,  2.93it/s]\n",
            "  0%|          | 0/18 [00:00<?, ?it/s]"
          ],
          "name": "stderr"
        },
        {
          "output_type": "stream",
          "text": [
            "\n",
            "Validation loss = 55.33423396945\n",
            "Validation accuracy = 4.081632653061225 %\n"
          ],
          "name": "stdout"
        },
        {
          "output_type": "stream",
          "text": [
            "100%|██████████| 18/18 [00:05<00:00,  3.08it/s]\n",
            "  0%|          | 0/5 [00:00<?, ?it/s]"
          ],
          "name": "stderr"
        },
        {
          "output_type": "stream",
          "text": [
            "Epoch: 4 \tTraining Loss: 0.108692\n"
          ],
          "name": "stdout"
        },
        {
          "output_type": "stream",
          "text": [
            "100%|██████████| 5/5 [00:01<00:00,  2.91it/s]\n",
            "  0%|          | 0/18 [00:00<?, ?it/s]"
          ],
          "name": "stderr"
        },
        {
          "output_type": "stream",
          "text": [
            "\n",
            "Validation loss = 55.78248280286789\n",
            "Validation accuracy = 4.421768707482993 %\n"
          ],
          "name": "stdout"
        },
        {
          "output_type": "stream",
          "text": [
            "100%|██████████| 18/18 [00:05<00:00,  3.06it/s]\n",
            "  0%|          | 0/5 [00:00<?, ?it/s]"
          ],
          "name": "stderr"
        },
        {
          "output_type": "stream",
          "text": [
            "Epoch: 5 \tTraining Loss: 0.110473\n"
          ],
          "name": "stdout"
        },
        {
          "output_type": "stream",
          "text": [
            "100%|██████████| 5/5 [00:01<00:00,  2.93it/s]\n",
            "  0%|          | 0/18 [00:00<?, ?it/s]"
          ],
          "name": "stderr"
        },
        {
          "output_type": "stream",
          "text": [
            "\n",
            "Validation loss = 52.439799070358276\n",
            "Validation accuracy = 3.741496598639456 %\n"
          ],
          "name": "stdout"
        },
        {
          "output_type": "stream",
          "text": [
            "100%|██████████| 18/18 [00:05<00:00,  3.05it/s]\n",
            "  0%|          | 0/5 [00:00<?, ?it/s]"
          ],
          "name": "stderr"
        },
        {
          "output_type": "stream",
          "text": [
            "Epoch: 6 \tTraining Loss: 0.101527\n"
          ],
          "name": "stdout"
        },
        {
          "output_type": "stream",
          "text": [
            "100%|██████████| 5/5 [00:01<00:00,  2.90it/s]\n",
            "  0%|          | 0/18 [00:00<?, ?it/s]"
          ],
          "name": "stderr"
        },
        {
          "output_type": "stream",
          "text": [
            "\n",
            "Validation loss = 51.762109994888306\n",
            "Validation accuracy = 4.2517006802721085 %\n"
          ],
          "name": "stdout"
        },
        {
          "output_type": "stream",
          "text": [
            "100%|██████████| 18/18 [00:05<00:00,  3.06it/s]\n",
            "  0%|          | 0/5 [00:00<?, ?it/s]"
          ],
          "name": "stderr"
        },
        {
          "output_type": "stream",
          "text": [
            "Epoch: 7 \tTraining Loss: 0.099729\n"
          ],
          "name": "stdout"
        },
        {
          "output_type": "stream",
          "text": [
            "100%|██████████| 5/5 [00:01<00:00,  2.99it/s]\n",
            "  0%|          | 0/18 [00:00<?, ?it/s]"
          ],
          "name": "stderr"
        },
        {
          "output_type": "stream",
          "text": [
            "\n",
            "Validation loss = 51.13803455233574\n",
            "Validation accuracy = 3.741496598639456 %\n"
          ],
          "name": "stdout"
        },
        {
          "output_type": "stream",
          "text": [
            "100%|██████████| 18/18 [00:05<00:00,  3.04it/s]\n",
            "  0%|          | 0/5 [00:00<?, ?it/s]"
          ],
          "name": "stderr"
        },
        {
          "output_type": "stream",
          "text": [
            "Epoch: 8 \tTraining Loss: 0.097234\n"
          ],
          "name": "stdout"
        },
        {
          "output_type": "stream",
          "text": [
            "100%|██████████| 5/5 [00:01<00:00,  2.95it/s]\n",
            "  0%|          | 0/18 [00:00<?, ?it/s]"
          ],
          "name": "stderr"
        },
        {
          "output_type": "stream",
          "text": [
            "\n",
            "Validation loss = 50.72409197688103\n",
            "Validation accuracy = 4.591836734693878 %\n"
          ],
          "name": "stdout"
        },
        {
          "output_type": "stream",
          "text": [
            "100%|██████████| 18/18 [00:05<00:00,  3.05it/s]\n",
            "  0%|          | 0/5 [00:00<?, ?it/s]"
          ],
          "name": "stderr"
        },
        {
          "output_type": "stream",
          "text": [
            "Epoch: 9 \tTraining Loss: 0.095844\n"
          ],
          "name": "stdout"
        },
        {
          "output_type": "stream",
          "text": [
            "100%|██████████| 5/5 [00:01<00:00,  2.88it/s]\n",
            "  0%|          | 0/18 [00:00<?, ?it/s]"
          ],
          "name": "stderr"
        },
        {
          "output_type": "stream",
          "text": [
            "\n",
            "Validation loss = 50.4451097548008\n",
            "Validation accuracy = 4.591836734693878 %\n"
          ],
          "name": "stdout"
        },
        {
          "output_type": "stream",
          "text": [
            "100%|██████████| 18/18 [00:05<00:00,  3.06it/s]\n",
            "  0%|          | 0/5 [00:00<?, ?it/s]"
          ],
          "name": "stderr"
        },
        {
          "output_type": "stream",
          "text": [
            "Epoch: 10 \tTraining Loss: 0.094534\n"
          ],
          "name": "stdout"
        },
        {
          "output_type": "stream",
          "text": [
            "100%|██████████| 5/5 [00:01<00:00,  2.97it/s]"
          ],
          "name": "stderr"
        },
        {
          "output_type": "stream",
          "text": [
            "\n",
            "Validation loss = 50.19463407993317\n",
            "Validation accuracy = 5.782312925170068 %\n"
          ],
          "name": "stdout"
        },
        {
          "output_type": "stream",
          "text": [
            "\n"
          ],
          "name": "stderr"
        }
      ]
    },
    {
      "cell_type": "code",
      "metadata": {
        "id": "mbx2B-eP1Jvz"
      },
      "source": [
        "plotTrain.append(train_losses)\n",
        "plotVal.append(val_losses)"
      ],
      "execution_count": 259,
      "outputs": []
    },
    {
      "cell_type": "code",
      "metadata": {
        "colab": {
          "base_uri": "https://localhost:8080/",
          "height": 592
        },
        "id": "gzTyDSq_H6MB",
        "outputId": "b2f890e1-11fb-46d5-da4d-f8d90a4ce2e1"
      },
      "source": [
        "plotGraph(10, plotTrain, plotVal, ['Max Pool', 'Average Pool', 'LP Pool'])"
      ],
      "execution_count": 260,
      "outputs": [
        {
          "output_type": "display_data",
          "data": {
            "image/png": "[encoded data removed]",
            "text/plain": [
              "<Figure size 720x720 with 1 Axes>"
            ]
          },
          "metadata": {
            "tags": [],
            "needs_background": "light"
          }
        }
      ]
    },
    {
      "cell_type": "markdown",
      "metadata": {
        "id": "7OQ1-wBmJnB7"
      },
      "source": [
        "Max Pool: 3.74%\n",
        "\n",
        "Average Pool: 4.08%\n",
        "\n",
        "LP Pool: 5.78%"
      ]
    },
    {
      "cell_type": "markdown",
      "metadata": {
        "id": "DJ1TLx4y5rum"
      },
      "source": [
        "### **6) Different optimizers**"
      ]
    },
    {
      "cell_type": "code",
      "metadata": {
        "id": "CEk3iqb352Nx"
      },
      "source": [
        "class FoodClassifier(nn.Module):\n",
        "  def __init__(self):\n",
        "    super(FoodClassifier, self).__init__()\n",
        "    self.layer1 = nn.Sequential(\n",
        "        nn.Linear(256*256, 1024, bias=True), \n",
        "        nn.ReLU(),\n",
        "        nn.Linear(1024, 512, bias=True), \n",
        "        nn.ReLU(),\n",
        "        nn.Linear(512, 128, bias=True), \n",
        "        nn.ReLU(),\n",
        "        nn.Linear(128, len(labels), bias=True)\n",
        "    )\n",
        "\n",
        "  def forward(self, x):\n",
        "    return torch.sigmoid(self.layer1(x))"
      ],
      "execution_count": 263,
      "outputs": []
    },
    {
      "cell_type": "code",
      "metadata": {
        "id": "YArKccOBISnd"
      },
      "source": [
        "plotTrain = []\n",
        "plotVal = []"
      ],
      "execution_count": 264,
      "outputs": []
    },
    {
      "cell_type": "code",
      "metadata": {
        "colab": {
          "base_uri": "https://localhost:8080/"
        },
        "id": "cUEkabP26TDD",
        "outputId": "5b04bd41-6f92-4692-bf77-9455201ec8b0"
      },
      "source": [
        "is_cuda = check_cuda()\n",
        "model = FoodClassifier()\n",
        "if is_cuda:\n",
        "    model.cuda()\n",
        "\n",
        "criterion = nn.BCELoss()\n",
        "optimizer = optim.Adagrad(model.parameters(), lr = 0.01, weight_decay = 1e-5)\n",
        "\n",
        "train_losses, val_losses = [], []\n",
        "model = train_model(model, train_dataloader, val_dataloader)"
      ],
      "execution_count": 265,
      "outputs": [
        {
          "output_type": "stream",
          "text": [
            "100%|██████████| 18/18 [00:06<00:00,  2.96it/s]\n",
            "  0%|          | 0/5 [00:00<?, ?it/s]"
          ],
          "name": "stderr"
        },
        {
          "output_type": "stream",
          "text": [
            "Epoch: 1 \tTraining Loss: 13.206466\n"
          ],
          "name": "stdout"
        },
        {
          "output_type": "stream",
          "text": [
            "100%|██████████| 5/5 [00:01<00:00,  2.89it/s]\n",
            "  0%|          | 0/18 [00:00<?, ?it/s]"
          ],
          "name": "stderr"
        },
        {
          "output_type": "stream",
          "text": [
            "\n",
            "Validation loss = 8988.9697265625\n",
            "Validation accuracy = 8.843537414965986 %\n"
          ],
          "name": "stdout"
        },
        {
          "output_type": "stream",
          "text": [
            "100%|██████████| 18/18 [00:06<00:00,  2.99it/s]\n",
            "  0%|          | 0/5 [00:00<?, ?it/s]"
          ],
          "name": "stderr"
        },
        {
          "output_type": "stream",
          "text": [
            "Epoch: 2 \tTraining Loss: 15.771562\n"
          ],
          "name": "stdout"
        },
        {
          "output_type": "stream",
          "text": [
            "100%|██████████| 5/5 [00:01<00:00,  2.93it/s]\n",
            "  0%|          | 0/18 [00:00<?, ?it/s]"
          ],
          "name": "stderr"
        },
        {
          "output_type": "stream",
          "text": [
            "\n",
            "Validation loss = 9870.967567443848\n",
            "Validation accuracy = 8.843537414965986 %\n"
          ],
          "name": "stdout"
        },
        {
          "output_type": "stream",
          "text": [
            "100%|██████████| 18/18 [00:05<00:00,  3.00it/s]\n",
            "  0%|          | 0/5 [00:00<?, ?it/s]"
          ],
          "name": "stderr"
        },
        {
          "output_type": "stream",
          "text": [
            "Epoch: 3 \tTraining Loss: 16.268009\n"
          ],
          "name": "stdout"
        },
        {
          "output_type": "stream",
          "text": [
            "100%|██████████| 5/5 [00:01<00:00,  2.93it/s]\n",
            "  0%|          | 0/18 [00:00<?, ?it/s]"
          ],
          "name": "stderr"
        },
        {
          "output_type": "stream",
          "text": [
            "\n",
            "Validation loss = 8970.26037979126\n",
            "Validation accuracy = 8.843537414965986 %\n"
          ],
          "name": "stdout"
        },
        {
          "output_type": "stream",
          "text": [
            "100%|██████████| 18/18 [00:06<00:00,  2.97it/s]\n",
            "  0%|          | 0/5 [00:00<?, ?it/s]"
          ],
          "name": "stderr"
        },
        {
          "output_type": "stream",
          "text": [
            "Epoch: 4 \tTraining Loss: 15.232396\n"
          ],
          "name": "stdout"
        },
        {
          "output_type": "stream",
          "text": [
            "100%|██████████| 5/5 [00:01<00:00,  2.96it/s]\n",
            "  0%|          | 0/18 [00:00<?, ?it/s]"
          ],
          "name": "stderr"
        },
        {
          "output_type": "stream",
          "text": [
            "\n",
            "Validation loss = 8970.345157623291\n",
            "Validation accuracy = 8.843537414965986 %\n"
          ],
          "name": "stdout"
        },
        {
          "output_type": "stream",
          "text": [
            "100%|██████████| 18/18 [00:05<00:00,  3.02it/s]\n",
            "  0%|          | 0/5 [00:00<?, ?it/s]"
          ],
          "name": "stderr"
        },
        {
          "output_type": "stream",
          "text": [
            "Epoch: 5 \tTraining Loss: 15.232269\n"
          ],
          "name": "stdout"
        },
        {
          "output_type": "stream",
          "text": [
            "100%|██████████| 5/5 [00:01<00:00,  2.95it/s]\n",
            "  0%|          | 0/18 [00:00<?, ?it/s]"
          ],
          "name": "stderr"
        },
        {
          "output_type": "stream",
          "text": [
            "\n",
            "Validation loss = 8969.892669677734\n",
            "Validation accuracy = 8.843537414965986 %\n"
          ],
          "name": "stdout"
        },
        {
          "output_type": "stream",
          "text": [
            "100%|██████████| 18/18 [00:05<00:00,  3.03it/s]\n",
            "  0%|          | 0/5 [00:00<?, ?it/s]"
          ],
          "name": "stderr"
        },
        {
          "output_type": "stream",
          "text": [
            "Epoch: 6 \tTraining Loss: 14.763776\n"
          ],
          "name": "stdout"
        },
        {
          "output_type": "stream",
          "text": [
            "100%|██████████| 5/5 [00:01<00:00,  2.91it/s]\n",
            "  0%|          | 0/18 [00:00<?, ?it/s]"
          ],
          "name": "stderr"
        },
        {
          "output_type": "stream",
          "text": [
            "\n",
            "Validation loss = 8040.39485168457\n",
            "Validation accuracy = 8.843537414965986 %\n"
          ],
          "name": "stdout"
        },
        {
          "output_type": "stream",
          "text": [
            "100%|██████████| 18/18 [00:05<00:00,  3.01it/s]\n",
            "  0%|          | 0/5 [00:00<?, ?it/s]"
          ],
          "name": "stderr"
        },
        {
          "output_type": "stream",
          "text": [
            "Epoch: 7 \tTraining Loss: 13.647730\n"
          ],
          "name": "stdout"
        },
        {
          "output_type": "stream",
          "text": [
            "100%|██████████| 5/5 [00:01<00:00,  2.91it/s]\n",
            "  0%|          | 0/18 [00:00<?, ?it/s]"
          ],
          "name": "stderr"
        },
        {
          "output_type": "stream",
          "text": [
            "\n",
            "Validation loss = 8041.205093383789\n",
            "Validation accuracy = 8.843537414965986 %\n"
          ],
          "name": "stdout"
        },
        {
          "output_type": "stream",
          "text": [
            "100%|██████████| 18/18 [00:06<00:00,  2.96it/s]\n",
            "  0%|          | 0/5 [00:00<?, ?it/s]"
          ],
          "name": "stderr"
        },
        {
          "output_type": "stream",
          "text": [
            "Epoch: 8 \tTraining Loss: 13.647319\n"
          ],
          "name": "stdout"
        },
        {
          "output_type": "stream",
          "text": [
            "100%|██████████| 5/5 [00:01<00:00,  2.91it/s]\n",
            "  0%|          | 0/18 [00:00<?, ?it/s]"
          ],
          "name": "stderr"
        },
        {
          "output_type": "stream",
          "text": [
            "\n",
            "Validation loss = 8041.156879425049\n",
            "Validation accuracy = 8.843537414965986 %\n"
          ],
          "name": "stdout"
        },
        {
          "output_type": "stream",
          "text": [
            "100%|██████████| 18/18 [00:05<00:00,  3.00it/s]\n",
            "  0%|          | 0/5 [00:00<?, ?it/s]"
          ],
          "name": "stderr"
        },
        {
          "output_type": "stream",
          "text": [
            "Epoch: 9 \tTraining Loss: 13.647116\n"
          ],
          "name": "stdout"
        },
        {
          "output_type": "stream",
          "text": [
            "100%|██████████| 5/5 [00:01<00:00,  2.96it/s]\n",
            "  0%|          | 0/18 [00:00<?, ?it/s]"
          ],
          "name": "stderr"
        },
        {
          "output_type": "stream",
          "text": [
            "\n",
            "Validation loss = 8040.65767288208\n",
            "Validation accuracy = 8.843537414965986 %\n"
          ],
          "name": "stdout"
        },
        {
          "output_type": "stream",
          "text": [
            "100%|██████████| 18/18 [00:05<00:00,  3.05it/s]\n",
            "  0%|          | 0/5 [00:00<?, ?it/s]"
          ],
          "name": "stderr"
        },
        {
          "output_type": "stream",
          "text": [
            "Epoch: 10 \tTraining Loss: 13.646739\n"
          ],
          "name": "stdout"
        },
        {
          "output_type": "stream",
          "text": [
            "100%|██████████| 5/5 [00:01<00:00,  3.01it/s]"
          ],
          "name": "stderr"
        },
        {
          "output_type": "stream",
          "text": [
            "\n",
            "Validation loss = 8039.949131011963\n",
            "Validation accuracy = 8.843537414965986 %\n"
          ],
          "name": "stdout"
        },
        {
          "output_type": "stream",
          "text": [
            "\n"
          ],
          "name": "stderr"
        }
      ]
    },
    {
      "cell_type": "code",
      "metadata": {
        "id": "AHtuytCe6x1m"
      },
      "source": [
        "plotTrain.append(train_losses)\n",
        "plotVal.append(val_losses)"
      ],
      "execution_count": 266,
      "outputs": []
    },
    {
      "cell_type": "code",
      "metadata": {
        "id": "sWHm5alm631E"
      },
      "source": [
        "class FoodClassifier(nn.Module):\n",
        "  def __init__(self):\n",
        "    super(FoodClassifier, self).__init__()\n",
        "    self.layer1 = nn.Sequential(\n",
        "        nn.Linear(256*256, 1024, bias=True), \n",
        "        nn.ReLU(),\n",
        "        nn.Linear(1024, 512, bias=True), \n",
        "        nn.ReLU(),\n",
        "        nn.Linear(512, 128, bias=True), \n",
        "        nn.ReLU(),\n",
        "        nn.Linear(128, len(labels), bias=True)\n",
        "    )\n",
        "\n",
        "  def forward(self, x):\n",
        "    return torch.sigmoid(self.layer1(x))"
      ],
      "execution_count": 267,
      "outputs": []
    },
    {
      "cell_type": "code",
      "metadata": {
        "colab": {
          "base_uri": "https://localhost:8080/"
        },
        "id": "quQEQvWE64gw",
        "outputId": "d82a89ff-e9db-4042-d4ac-a2ecb2f0b233"
      },
      "source": [
        "is_cuda = check_cuda()\n",
        "model = FoodClassifier()\n",
        "if is_cuda:\n",
        "    model.cuda()\n",
        "\n",
        "criterion = nn.BCELoss()\n",
        "optimizer = optim.AdamW(model.parameters(), lr = 0.01, weight_decay = 1e-5)\n",
        "\n",
        "train_losses, val_losses = [], []\n",
        "model = train_model(model, train_dataloader, val_dataloader)"
      ],
      "execution_count": 268,
      "outputs": [
        {
          "output_type": "stream",
          "text": [
            "100%|██████████| 18/18 [00:06<00:00,  2.94it/s]\n",
            "  0%|          | 0/5 [00:00<?, ?it/s]"
          ],
          "name": "stderr"
        },
        {
          "output_type": "stream",
          "text": [
            "Epoch: 1 \tTraining Loss: 3.150906\n"
          ],
          "name": "stdout"
        },
        {
          "output_type": "stream",
          "text": [
            "100%|██████████| 5/5 [00:01<00:00,  2.95it/s]\n",
            "  0%|          | 0/18 [00:00<?, ?it/s]"
          ],
          "name": "stderr"
        },
        {
          "output_type": "stream",
          "text": [
            "\n",
            "Validation loss = 1729.0322065353394\n",
            "Validation accuracy = 8.843537414965986 %\n"
          ],
          "name": "stdout"
        },
        {
          "output_type": "stream",
          "text": [
            "100%|██████████| 18/18 [00:06<00:00,  2.96it/s]\n",
            "  0%|          | 0/5 [00:00<?, ?it/s]"
          ],
          "name": "stderr"
        },
        {
          "output_type": "stream",
          "text": [
            "Epoch: 2 \tTraining Loss: 2.924750\n"
          ],
          "name": "stdout"
        },
        {
          "output_type": "stream",
          "text": [
            "100%|██████████| 5/5 [00:01<00:00,  2.97it/s]\n",
            "  0%|          | 0/18 [00:00<?, ?it/s]"
          ],
          "name": "stderr"
        },
        {
          "output_type": "stream",
          "text": [
            "\n",
            "Validation loss = 1729.0322065353394\n",
            "Validation accuracy = 8.843537414965986 %\n"
          ],
          "name": "stdout"
        },
        {
          "output_type": "stream",
          "text": [
            "100%|██████████| 18/18 [00:06<00:00,  2.97it/s]\n",
            "  0%|          | 0/5 [00:00<?, ?it/s]"
          ],
          "name": "stderr"
        },
        {
          "output_type": "stream",
          "text": [
            "Epoch: 3 \tTraining Loss: 2.924750\n"
          ],
          "name": "stdout"
        },
        {
          "output_type": "stream",
          "text": [
            "100%|██████████| 5/5 [00:01<00:00,  2.89it/s]\n",
            "  0%|          | 0/18 [00:00<?, ?it/s]"
          ],
          "name": "stderr"
        },
        {
          "output_type": "stream",
          "text": [
            "\n",
            "Validation loss = 1729.0322065353394\n",
            "Validation accuracy = 8.843537414965986 %\n"
          ],
          "name": "stdout"
        },
        {
          "output_type": "stream",
          "text": [
            "100%|██████████| 18/18 [00:06<00:00,  2.97it/s]\n",
            "  0%|          | 0/5 [00:00<?, ?it/s]"
          ],
          "name": "stderr"
        },
        {
          "output_type": "stream",
          "text": [
            "Epoch: 4 \tTraining Loss: 2.924750\n"
          ],
          "name": "stdout"
        },
        {
          "output_type": "stream",
          "text": [
            "100%|██████████| 5/5 [00:01<00:00,  2.92it/s]\n",
            "  0%|          | 0/18 [00:00<?, ?it/s]"
          ],
          "name": "stderr"
        },
        {
          "output_type": "stream",
          "text": [
            "\n",
            "Validation loss = 1729.032238960266\n",
            "Validation accuracy = 8.843537414965986 %\n"
          ],
          "name": "stdout"
        },
        {
          "output_type": "stream",
          "text": [
            "100%|██████████| 18/18 [00:06<00:00,  2.97it/s]\n",
            "  0%|          | 0/5 [00:00<?, ?it/s]"
          ],
          "name": "stderr"
        },
        {
          "output_type": "stream",
          "text": [
            "Epoch: 5 \tTraining Loss: 2.924750\n"
          ],
          "name": "stdout"
        },
        {
          "output_type": "stream",
          "text": [
            "100%|██████████| 5/5 [00:01<00:00,  2.92it/s]\n",
            "  0%|          | 0/18 [00:00<?, ?it/s]"
          ],
          "name": "stderr"
        },
        {
          "output_type": "stream",
          "text": [
            "\n",
            "Validation loss = 1729.0321779251099\n",
            "Validation accuracy = 8.843537414965986 %\n"
          ],
          "name": "stdout"
        },
        {
          "output_type": "stream",
          "text": [
            "100%|██████████| 18/18 [00:06<00:00,  2.99it/s]\n",
            "  0%|          | 0/5 [00:00<?, ?it/s]"
          ],
          "name": "stderr"
        },
        {
          "output_type": "stream",
          "text": [
            "Epoch: 6 \tTraining Loss: 2.924750\n"
          ],
          "name": "stdout"
        },
        {
          "output_type": "stream",
          "text": [
            "100%|██████████| 5/5 [00:01<00:00,  2.95it/s]\n",
            "  0%|          | 0/18 [00:00<?, ?it/s]"
          ],
          "name": "stderr"
        },
        {
          "output_type": "stream",
          "text": [
            "\n",
            "Validation loss = 1729.0322513580322\n",
            "Validation accuracy = 8.843537414965986 %\n"
          ],
          "name": "stdout"
        },
        {
          "output_type": "stream",
          "text": [
            "100%|██████████| 18/18 [00:05<00:00,  3.02it/s]\n",
            "  0%|          | 0/5 [00:00<?, ?it/s]"
          ],
          "name": "stderr"
        },
        {
          "output_type": "stream",
          "text": [
            "Epoch: 7 \tTraining Loss: 2.924750\n"
          ],
          "name": "stdout"
        },
        {
          "output_type": "stream",
          "text": [
            "100%|██████████| 5/5 [00:01<00:00,  2.95it/s]\n",
            "  0%|          | 0/18 [00:00<?, ?it/s]"
          ],
          "name": "stderr"
        },
        {
          "output_type": "stream",
          "text": [
            "\n",
            "Validation loss = 1729.0321741104126\n",
            "Validation accuracy = 8.843537414965986 %\n"
          ],
          "name": "stdout"
        },
        {
          "output_type": "stream",
          "text": [
            "100%|██████████| 18/18 [00:06<00:00,  2.94it/s]\n",
            "  0%|          | 0/5 [00:00<?, ?it/s]"
          ],
          "name": "stderr"
        },
        {
          "output_type": "stream",
          "text": [
            "Epoch: 8 \tTraining Loss: 2.924750\n"
          ],
          "name": "stdout"
        },
        {
          "output_type": "stream",
          "text": [
            "100%|██████████| 5/5 [00:01<00:00,  2.90it/s]\n",
            "  0%|          | 0/18 [00:00<?, ?it/s]"
          ],
          "name": "stderr"
        },
        {
          "output_type": "stream",
          "text": [
            "\n",
            "Validation loss = 1729.0322065353394\n",
            "Validation accuracy = 8.843537414965986 %\n"
          ],
          "name": "stdout"
        },
        {
          "output_type": "stream",
          "text": [
            "100%|██████████| 18/18 [00:06<00:00,  2.96it/s]\n",
            "  0%|          | 0/5 [00:00<?, ?it/s]"
          ],
          "name": "stderr"
        },
        {
          "output_type": "stream",
          "text": [
            "Epoch: 9 \tTraining Loss: 2.924750\n"
          ],
          "name": "stdout"
        },
        {
          "output_type": "stream",
          "text": [
            "100%|██████████| 5/5 [00:01<00:00,  2.91it/s]\n",
            "  0%|          | 0/18 [00:00<?, ?it/s]"
          ],
          "name": "stderr"
        },
        {
          "output_type": "stream",
          "text": [
            "\n",
            "Validation loss = 1729.0322227478027\n",
            "Validation accuracy = 8.843537414965986 %\n"
          ],
          "name": "stdout"
        },
        {
          "output_type": "stream",
          "text": [
            "100%|██████████| 18/18 [00:06<00:00,  2.95it/s]\n",
            "  0%|          | 0/5 [00:00<?, ?it/s]"
          ],
          "name": "stderr"
        },
        {
          "output_type": "stream",
          "text": [
            "Epoch: 10 \tTraining Loss: 2.924750\n"
          ],
          "name": "stdout"
        },
        {
          "output_type": "stream",
          "text": [
            "100%|██████████| 5/5 [00:01<00:00,  2.92it/s]"
          ],
          "name": "stderr"
        },
        {
          "output_type": "stream",
          "text": [
            "\n",
            "Validation loss = 1729.0322046279907\n",
            "Validation accuracy = 8.843537414965986 %\n"
          ],
          "name": "stdout"
        },
        {
          "output_type": "stream",
          "text": [
            "\n"
          ],
          "name": "stderr"
        }
      ]
    },
    {
      "cell_type": "code",
      "metadata": {
        "id": "Vi8CFI4y-ivA"
      },
      "source": [
        "plotTrain.append(train_losses)\n",
        "plotVal.append(val_losses)"
      ],
      "execution_count": 269,
      "outputs": []
    },
    {
      "cell_type": "code",
      "metadata": {
        "id": "Ox9GvUQw7Dgj"
      },
      "source": [
        "class FoodClassifier(nn.Module):\n",
        "  def __init__(self):\n",
        "    super(FoodClassifier, self).__init__()\n",
        "    self.layer1 = nn.Sequential(\n",
        "        nn.Linear(256*256, 1024, bias=True), \n",
        "        nn.ReLU(),\n",
        "        nn.Linear(1024, 512, bias=True), \n",
        "        nn.ReLU(),\n",
        "        nn.Linear(512, 128, bias=True), \n",
        "        nn.ReLU(),\n",
        "        nn.Linear(128, len(labels), bias=True)\n",
        "    )\n",
        "\n",
        "  def forward(self, x):\n",
        "    return torch.sigmoid(self.layer1(x))"
      ],
      "execution_count": 270,
      "outputs": []
    },
    {
      "cell_type": "code",
      "metadata": {
        "colab": {
          "base_uri": "https://localhost:8080/"
        },
        "id": "lLMv8Mtc7GpW",
        "outputId": "962c6f09-359e-40da-c6e2-dcab2365a345"
      },
      "source": [
        "is_cuda = check_cuda()\n",
        "model = FoodClassifier()\n",
        "if is_cuda:\n",
        "    model.cuda()\n",
        "\n",
        "criterion = nn.BCELoss()\n",
        "optimizer = optim.RMSprop(model.parameters(), lr = 0.01, momentum = 0.9, weight_decay = 1e-5)\n",
        "\n",
        "train_losses, val_losses = [], []\n",
        "model = train_model(model, train_dataloader, val_dataloader)"
      ],
      "execution_count": 271,
      "outputs": [
        {
          "output_type": "stream",
          "text": [
            "100%|██████████| 18/18 [00:06<00:00,  2.94it/s]\n",
            "  0%|          | 0/5 [00:00<?, ?it/s]"
          ],
          "name": "stderr"
        },
        {
          "output_type": "stream",
          "text": [
            "Epoch: 1 \tTraining Loss: 2.964819\n"
          ],
          "name": "stdout"
        },
        {
          "output_type": "stream",
          "text": [
            "100%|██████████| 5/5 [00:01<00:00,  2.91it/s]\n",
            "  0%|          | 0/18 [00:00<?, ?it/s]"
          ],
          "name": "stderr"
        },
        {
          "output_type": "stream",
          "text": [
            "\n",
            "Validation loss = 1729.0321884155273\n",
            "Validation accuracy = 8.843537414965986 %\n"
          ],
          "name": "stdout"
        },
        {
          "output_type": "stream",
          "text": [
            "100%|██████████| 18/18 [00:06<00:00,  2.94it/s]\n",
            "  0%|          | 0/5 [00:00<?, ?it/s]"
          ],
          "name": "stderr"
        },
        {
          "output_type": "stream",
          "text": [
            "Epoch: 2 \tTraining Loss: 2.924750\n"
          ],
          "name": "stdout"
        },
        {
          "output_type": "stream",
          "text": [
            "100%|██████████| 5/5 [00:01<00:00,  2.96it/s]\n",
            "  0%|          | 0/18 [00:00<?, ?it/s]"
          ],
          "name": "stderr"
        },
        {
          "output_type": "stream",
          "text": [
            "\n",
            "Validation loss = 1729.0322227478027\n",
            "Validation accuracy = 8.843537414965986 %\n"
          ],
          "name": "stdout"
        },
        {
          "output_type": "stream",
          "text": [
            "100%|██████████| 18/18 [00:06<00:00,  2.99it/s]\n",
            "  0%|          | 0/5 [00:00<?, ?it/s]"
          ],
          "name": "stderr"
        },
        {
          "output_type": "stream",
          "text": [
            "Epoch: 3 \tTraining Loss: 2.924750\n"
          ],
          "name": "stdout"
        },
        {
          "output_type": "stream",
          "text": [
            "100%|██████████| 5/5 [00:01<00:00,  2.90it/s]\n",
            "  0%|          | 0/18 [00:00<?, ?it/s]"
          ],
          "name": "stderr"
        },
        {
          "output_type": "stream",
          "text": [
            "\n",
            "Validation loss = 1729.0322227478027\n",
            "Validation accuracy = 8.843537414965986 %\n"
          ],
          "name": "stdout"
        },
        {
          "output_type": "stream",
          "text": [
            "100%|██████████| 18/18 [00:06<00:00,  2.98it/s]\n",
            "  0%|          | 0/5 [00:00<?, ?it/s]"
          ],
          "name": "stderr"
        },
        {
          "output_type": "stream",
          "text": [
            "Epoch: 4 \tTraining Loss: 2.924750\n"
          ],
          "name": "stdout"
        },
        {
          "output_type": "stream",
          "text": [
            "100%|██████████| 5/5 [00:01<00:00,  2.93it/s]\n",
            "  0%|          | 0/18 [00:00<?, ?it/s]"
          ],
          "name": "stderr"
        },
        {
          "output_type": "stream",
          "text": [
            "\n",
            "Validation loss = 1729.032190322876\n",
            "Validation accuracy = 8.843537414965986 %\n"
          ],
          "name": "stdout"
        },
        {
          "output_type": "stream",
          "text": [
            "100%|██████████| 18/18 [00:06<00:00,  2.98it/s]\n",
            "  0%|          | 0/5 [00:00<?, ?it/s]"
          ],
          "name": "stderr"
        },
        {
          "output_type": "stream",
          "text": [
            "Epoch: 5 \tTraining Loss: 2.924750\n"
          ],
          "name": "stdout"
        },
        {
          "output_type": "stream",
          "text": [
            "100%|██████████| 5/5 [00:01<00:00,  2.91it/s]\n",
            "  0%|          | 0/18 [00:00<?, ?it/s]"
          ],
          "name": "stderr"
        },
        {
          "output_type": "stream",
          "text": [
            "\n",
            "Validation loss = 1729.032220840454\n",
            "Validation accuracy = 8.843537414965986 %\n"
          ],
          "name": "stdout"
        },
        {
          "output_type": "stream",
          "text": [
            "100%|██████████| 18/18 [00:06<00:00,  2.98it/s]\n",
            "  0%|          | 0/5 [00:00<?, ?it/s]"
          ],
          "name": "stderr"
        },
        {
          "output_type": "stream",
          "text": [
            "Epoch: 6 \tTraining Loss: 2.924750\n"
          ],
          "name": "stdout"
        },
        {
          "output_type": "stream",
          "text": [
            "100%|██████████| 5/5 [00:01<00:00,  2.98it/s]\n",
            "  0%|          | 0/18 [00:00<?, ?it/s]"
          ],
          "name": "stderr"
        },
        {
          "output_type": "stream",
          "text": [
            "\n",
            "Validation loss = 1729.032220840454\n",
            "Validation accuracy = 8.843537414965986 %\n"
          ],
          "name": "stdout"
        },
        {
          "output_type": "stream",
          "text": [
            "100%|██████████| 18/18 [00:06<00:00,  2.98it/s]\n",
            "  0%|          | 0/5 [00:00<?, ?it/s]"
          ],
          "name": "stderr"
        },
        {
          "output_type": "stream",
          "text": [
            "Epoch: 7 \tTraining Loss: 3.531164\n"
          ],
          "name": "stdout"
        },
        {
          "output_type": "stream",
          "text": [
            "100%|██████████| 5/5 [00:01<00:00,  2.98it/s]\n",
            "  0%|          | 0/18 [00:00<?, ?it/s]"
          ],
          "name": "stderr"
        },
        {
          "output_type": "stream",
          "text": [
            "\n",
            "Validation loss = 2748.386999130249\n",
            "Validation accuracy = 4.081632653061225 %\n"
          ],
          "name": "stdout"
        },
        {
          "output_type": "stream",
          "text": [
            "100%|██████████| 18/18 [00:06<00:00,  2.99it/s]\n",
            "  0%|          | 0/5 [00:00<?, ?it/s]"
          ],
          "name": "stderr"
        },
        {
          "output_type": "stream",
          "text": [
            "Epoch: 8 \tTraining Loss: 4.670002\n"
          ],
          "name": "stdout"
        },
        {
          "output_type": "stream",
          "text": [
            "100%|██████████| 5/5 [00:01<00:00,  2.99it/s]\n",
            "  0%|          | 0/18 [00:00<?, ?it/s]"
          ],
          "name": "stderr"
        },
        {
          "output_type": "stream",
          "text": [
            "\n",
            "Validation loss = 2748.3869953155518\n",
            "Validation accuracy = 4.081632653061225 %\n"
          ],
          "name": "stdout"
        },
        {
          "output_type": "stream",
          "text": [
            "100%|██████████| 18/18 [00:06<00:00,  2.95it/s]\n",
            "  0%|          | 0/5 [00:00<?, ?it/s]"
          ],
          "name": "stderr"
        },
        {
          "output_type": "stream",
          "text": [
            "Epoch: 9 \tTraining Loss: 4.670002\n"
          ],
          "name": "stdout"
        },
        {
          "output_type": "stream",
          "text": [
            "100%|██████████| 5/5 [00:01<00:00,  2.92it/s]\n",
            "  0%|          | 0/18 [00:00<?, ?it/s]"
          ],
          "name": "stderr"
        },
        {
          "output_type": "stream",
          "text": [
            "\n",
            "Validation loss = 2748.3870277404785\n",
            "Validation accuracy = 4.081632653061225 %\n"
          ],
          "name": "stdout"
        },
        {
          "output_type": "stream",
          "text": [
            "100%|██████████| 18/18 [00:06<00:00,  2.94it/s]\n",
            "  0%|          | 0/5 [00:00<?, ?it/s]"
          ],
          "name": "stderr"
        },
        {
          "output_type": "stream",
          "text": [
            "Epoch: 10 \tTraining Loss: 4.670002\n"
          ],
          "name": "stdout"
        },
        {
          "output_type": "stream",
          "text": [
            "100%|██████████| 5/5 [00:01<00:00,  2.92it/s]"
          ],
          "name": "stderr"
        },
        {
          "output_type": "stream",
          "text": [
            "\n",
            "Validation loss = 2748.3869953155518\n",
            "Validation accuracy = 4.081632653061225 %\n"
          ],
          "name": "stdout"
        },
        {
          "output_type": "stream",
          "text": [
            "\n"
          ],
          "name": "stderr"
        }
      ]
    },
    {
      "cell_type": "code",
      "metadata": {
        "id": "a9Zy8XDy-j2c"
      },
      "source": [
        "plotTrain.append(train_losses)\n",
        "plotVal.append(val_losses)"
      ],
      "execution_count": 272,
      "outputs": []
    },
    {
      "cell_type": "code",
      "metadata": {
        "colab": {
          "base_uri": "https://localhost:8080/",
          "height": 592
        },
        "id": "QVGWbaK7Iux8",
        "outputId": "514fdf77-4811-40af-d659-a6245df6432b"
      },
      "source": [
        "plotGraph(10, plotTrain, plotVal, ['Adagrad', 'AdamW', 'RMSprop'])"
      ],
      "execution_count": 273,
      "outputs": [
        {
          "output_type": "display_data",
          "data": {
            "image/png": "[encoded data removed]",
            "text/plain": [
              "<Figure size 720x720 with 1 Axes>"
            ]
          },
          "metadata": {
            "tags": [],
            "needs_background": "light"
          }
        }
      ]
    },
    {
      "cell_type": "markdown",
      "metadata": {
        "id": "35cxjSBeJ1eE"
      },
      "source": [
        "Adagrad: 8.84%\n",
        "\n",
        "AdamW: 8.84%\n",
        "\n",
        "RMSprop: 4.08%"
      ]
    },
    {
      "cell_type": "markdown",
      "metadata": {
        "id": "jk0oJc-m5yW5"
      },
      "source": [
        "### **7) Basic Augmentation like Rotation, Translation, Color Change**"
      ]
    },
    {
      "cell_type": "code",
      "metadata": {
        "id": "ijp8j9-q91RU"
      },
      "source": [
        "class FoodData(Dataset):\n",
        "  def __init__(self, list_images, list_labels):\n",
        "    self.list_images = list_images\n",
        "    self.list_labels = list_labels\n",
        "\n",
        "  def __len__(self):\n",
        "    return len(self.list_labels)\n",
        "\n",
        "  def __getitem__(self, index):\n",
        "    img = cv2.imread(self.list_images[index], 0)\n",
        "    transform = transforms.Compose([\n",
        "        transforms.ToPILImage(),\n",
        "        transforms.RandomRotation(degrees=15),\n",
        "        transforms.RandomHorizontalFlip(),\n",
        "        transforms.ColorJitter()\n",
        "    ])\n",
        "    img = np.array(transform(img))\n",
        "    img = img.astype(np.float64)\n",
        "    img = cv2.resize(img, (256, 256)).astype(np.float64) / 255\n",
        "    img = img.flatten()\n",
        "    lbl = np.zeros(len(labels)).astype(np.float)\n",
        "    lbl[self.list_labels[index]] = 1\n",
        "    return {'feature': img, 'label': lbl}"
      ],
      "execution_count": 277,
      "outputs": []
    },
    {
      "cell_type": "code",
      "metadata": {
        "id": "LoAJ6JxG1NIH"
      },
      "source": [
        "train_dl = FoodData(train_images_list, train_labels_list)\n",
        "val_dl = FoodData(val_images_list, val_labels_list)"
      ],
      "execution_count": 278,
      "outputs": []
    },
    {
      "cell_type": "code",
      "metadata": {
        "colab": {
          "base_uri": "https://localhost:8080/"
        },
        "id": "tx4fLAkL-Jsz",
        "outputId": "41205fd0-7da8-41b2-f4e1-7d8a75e3bf65"
      },
      "source": [
        "train_dl.__getitem__(0)['feature'].shape"
      ],
      "execution_count": 279,
      "outputs": [
        {
          "output_type": "execute_result",
          "data": {
            "text/plain": [
              "(65536,)"
            ]
          },
          "metadata": {
            "tags": []
          },
          "execution_count": 279
        }
      ]
    },
    {
      "cell_type": "code",
      "metadata": {
        "id": "hHlhRKWS-L6b"
      },
      "source": [
        "train_dataloader = torch.utils.data.DataLoader(train_dl, shuffle = False, batch_size = 128, num_workers = 2)\n",
        "val_dataloader = torch.utils.data.DataLoader(val_dl, shuffle = True, batch_size = 128, num_workers = 2)"
      ],
      "execution_count": 280,
      "outputs": []
    },
    {
      "cell_type": "code",
      "metadata": {
        "id": "9yMs-kPg-OFk"
      },
      "source": [
        "class FoodClassifier(nn.Module):\n",
        "  def __init__(self):\n",
        "    super(FoodClassifier, self).__init__()\n",
        "    self.layer1 = nn.Sequential(\n",
        "        nn.Linear(256*256, 1024, bias=True), \n",
        "        nn.ReLU(),\n",
        "        nn.Linear(1024, 512, bias=True), \n",
        "        nn.ReLU(),\n",
        "        nn.Linear(512, 128, bias=True), \n",
        "        nn.ReLU(),\n",
        "        nn.Linear(128, len(labels), bias=True)\n",
        "    )\n",
        "\n",
        "  def forward(self, x):\n",
        "    return torch.sigmoid(self.layer1(x))"
      ],
      "execution_count": 281,
      "outputs": []
    },
    {
      "cell_type": "code",
      "metadata": {
        "colab": {
          "base_uri": "https://localhost:8080/"
        },
        "id": "Bak1aoup-Rhg",
        "outputId": "aaa3279d-b8d3-4426-8999-3388ecf15692"
      },
      "source": [
        "is_cuda = check_cuda()\n",
        "model = FoodClassifier()\n",
        "if is_cuda:\n",
        "    model.cuda()\n",
        "\n",
        "criterion = nn.BCELoss()\n",
        "optimizer = optim.SGD(model.parameters(), lr = 0.01, momentum = 0.9, weight_decay = 1e-5)\n",
        "\n",
        "train_losses, val_losses = [], []\n",
        "model = train_model(model, train_dataloader, val_dataloader)"
      ],
      "execution_count": 282,
      "outputs": [
        {
          "output_type": "stream",
          "text": [
            "100%|██████████| 18/18 [00:10<00:00,  1.78it/s]\n",
            "  0%|          | 0/5 [00:00<?, ?it/s]"
          ],
          "name": "stderr"
        },
        {
          "output_type": "stream",
          "text": [
            "Epoch: 1 \tTraining Loss: 0.645859\n"
          ],
          "name": "stdout"
        },
        {
          "output_type": "stream",
          "text": [
            "100%|██████████| 5/5 [00:02<00:00,  1.81it/s]\n",
            "  0%|          | 0/18 [00:00<?, ?it/s]"
          ],
          "name": "stderr"
        },
        {
          "output_type": "stream",
          "text": [
            "\n",
            "Validation loss = 299.15508365631104\n",
            "Validation accuracy = 6.122448979591836 %\n"
          ],
          "name": "stdout"
        },
        {
          "output_type": "stream",
          "text": [
            "100%|██████████| 18/18 [00:10<00:00,  1.76it/s]\n",
            "  0%|          | 0/5 [00:00<?, ?it/s]"
          ],
          "name": "stderr"
        },
        {
          "output_type": "stream",
          "text": [
            "Epoch: 2 \tTraining Loss: 0.231675\n"
          ],
          "name": "stdout"
        },
        {
          "output_type": "stream",
          "text": [
            "100%|██████████| 5/5 [00:02<00:00,  1.74it/s]\n",
            "  0%|          | 0/18 [00:00<?, ?it/s]"
          ],
          "name": "stderr"
        },
        {
          "output_type": "stream",
          "text": [
            "\n",
            "Validation loss = 69.5157799422741\n",
            "Validation accuracy = 3.9115646258503403 %\n"
          ],
          "name": "stdout"
        },
        {
          "output_type": "stream",
          "text": [
            "100%|██████████| 18/18 [00:10<00:00,  1.75it/s]\n",
            "  0%|          | 0/5 [00:00<?, ?it/s]"
          ],
          "name": "stderr"
        },
        {
          "output_type": "stream",
          "text": [
            "Epoch: 3 \tTraining Loss: 0.125125\n"
          ],
          "name": "stdout"
        },
        {
          "output_type": "stream",
          "text": [
            "100%|██████████| 5/5 [00:02<00:00,  1.81it/s]\n",
            "  0%|          | 0/18 [00:00<?, ?it/s]"
          ],
          "name": "stderr"
        },
        {
          "output_type": "stream",
          "text": [
            "\n",
            "Validation loss = 51.801527708768845\n",
            "Validation accuracy = 8.843537414965986 %\n"
          ],
          "name": "stdout"
        },
        {
          "output_type": "stream",
          "text": [
            "100%|██████████| 18/18 [00:10<00:00,  1.77it/s]\n",
            "  0%|          | 0/5 [00:00<?, ?it/s]"
          ],
          "name": "stderr"
        },
        {
          "output_type": "stream",
          "text": [
            "Epoch: 4 \tTraining Loss: 0.090549\n"
          ],
          "name": "stdout"
        },
        {
          "output_type": "stream",
          "text": [
            "100%|██████████| 5/5 [00:02<00:00,  1.80it/s]\n",
            "  0%|          | 0/18 [00:00<?, ?it/s]"
          ],
          "name": "stderr"
        },
        {
          "output_type": "stream",
          "text": [
            "\n",
            "Validation loss = 51.42090365290642\n",
            "Validation accuracy = 6.292517006802721 %\n"
          ],
          "name": "stdout"
        },
        {
          "output_type": "stream",
          "text": [
            "100%|██████████| 18/18 [00:10<00:00,  1.78it/s]\n",
            "  0%|          | 0/5 [00:00<?, ?it/s]"
          ],
          "name": "stderr"
        },
        {
          "output_type": "stream",
          "text": [
            "Epoch: 5 \tTraining Loss: 0.091247\n"
          ],
          "name": "stdout"
        },
        {
          "output_type": "stream",
          "text": [
            "100%|██████████| 5/5 [00:02<00:00,  1.76it/s]\n",
            "  0%|          | 0/18 [00:00<?, ?it/s]"
          ],
          "name": "stderr"
        },
        {
          "output_type": "stream",
          "text": [
            "\n",
            "Validation loss = 50.2048225402832\n",
            "Validation accuracy = 6.292517006802721 %\n"
          ],
          "name": "stdout"
        },
        {
          "output_type": "stream",
          "text": [
            "100%|██████████| 18/18 [00:10<00:00,  1.78it/s]\n",
            "  0%|          | 0/5 [00:00<?, ?it/s]"
          ],
          "name": "stderr"
        },
        {
          "output_type": "stream",
          "text": [
            "Epoch: 6 \tTraining Loss: 0.090162\n"
          ],
          "name": "stdout"
        },
        {
          "output_type": "stream",
          "text": [
            "100%|██████████| 5/5 [00:02<00:00,  1.81it/s]\n",
            "  0%|          | 0/18 [00:00<?, ?it/s]"
          ],
          "name": "stderr"
        },
        {
          "output_type": "stream",
          "text": [
            "\n",
            "Validation loss = 50.16711845993996\n",
            "Validation accuracy = 6.122448979591836 %\n"
          ],
          "name": "stdout"
        },
        {
          "output_type": "stream",
          "text": [
            "100%|██████████| 18/18 [00:10<00:00,  1.78it/s]\n",
            "  0%|          | 0/5 [00:00<?, ?it/s]"
          ],
          "name": "stderr"
        },
        {
          "output_type": "stream",
          "text": [
            "Epoch: 7 \tTraining Loss: 0.089641\n"
          ],
          "name": "stdout"
        },
        {
          "output_type": "stream",
          "text": [
            "100%|██████████| 5/5 [00:02<00:00,  1.81it/s]\n",
            "  0%|          | 0/18 [00:00<?, ?it/s]"
          ],
          "name": "stderr"
        },
        {
          "output_type": "stream",
          "text": [
            "\n",
            "Validation loss = 50.14808988571167\n",
            "Validation accuracy = 6.122448979591836 %\n"
          ],
          "name": "stdout"
        },
        {
          "output_type": "stream",
          "text": [
            "100%|██████████| 18/18 [00:10<00:00,  1.79it/s]\n",
            "  0%|          | 0/5 [00:00<?, ?it/s]"
          ],
          "name": "stderr"
        },
        {
          "output_type": "stream",
          "text": [
            "Epoch: 8 \tTraining Loss: 0.089621\n"
          ],
          "name": "stdout"
        },
        {
          "output_type": "stream",
          "text": [
            "100%|██████████| 5/5 [00:02<00:00,  1.78it/s]\n",
            "  0%|          | 0/18 [00:00<?, ?it/s]"
          ],
          "name": "stderr"
        },
        {
          "output_type": "stream",
          "text": [
            "\n",
            "Validation loss = 50.081119775772095\n",
            "Validation accuracy = 6.122448979591836 %\n"
          ],
          "name": "stdout"
        },
        {
          "output_type": "stream",
          "text": [
            "100%|██████████| 18/18 [00:10<00:00,  1.76it/s]\n",
            "  0%|          | 0/5 [00:00<?, ?it/s]"
          ],
          "name": "stderr"
        },
        {
          "output_type": "stream",
          "text": [
            "Epoch: 9 \tTraining Loss: 0.089412\n"
          ],
          "name": "stdout"
        },
        {
          "output_type": "stream",
          "text": [
            "100%|██████████| 5/5 [00:02<00:00,  1.78it/s]\n",
            "  0%|          | 0/18 [00:00<?, ?it/s]"
          ],
          "name": "stderr"
        },
        {
          "output_type": "stream",
          "text": [
            "\n",
            "Validation loss = 50.12529644370079\n",
            "Validation accuracy = 6.122448979591836 %\n"
          ],
          "name": "stdout"
        },
        {
          "output_type": "stream",
          "text": [
            "100%|██████████| 18/18 [00:10<00:00,  1.79it/s]\n",
            "  0%|          | 0/5 [00:00<?, ?it/s]"
          ],
          "name": "stderr"
        },
        {
          "output_type": "stream",
          "text": [
            "Epoch: 10 \tTraining Loss: 0.089376\n"
          ],
          "name": "stdout"
        },
        {
          "output_type": "stream",
          "text": [
            "100%|██████████| 5/5 [00:02<00:00,  1.79it/s]"
          ],
          "name": "stderr"
        },
        {
          "output_type": "stream",
          "text": [
            "\n",
            "Validation loss = 50.10658100247383\n",
            "Validation accuracy = 6.122448979591836 %\n"
          ],
          "name": "stdout"
        },
        {
          "output_type": "stream",
          "text": [
            "\n"
          ],
          "name": "stderr"
        }
      ]
    },
    {
      "cell_type": "markdown",
      "metadata": {
        "id": "Mi5-zodmKDZn"
      },
      "source": [
        "Augmentation creates more variety of images, hence overfitting is reduced and accuracy increases."
      ]
    }
  ]
}